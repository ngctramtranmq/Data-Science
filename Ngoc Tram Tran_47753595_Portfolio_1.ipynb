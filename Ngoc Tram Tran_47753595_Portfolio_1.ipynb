{
  "cells": [
    {
      "cell_type": "markdown",
      "metadata": {
        "id": "skHfgkqlqndO"
      },
      "source": [
        "### Analysis of an E-commerce Dataset\n",
        "\n",
        "We have been provided with a combined e-commerce dataset. In this dataset, each user has the ability to post a rating and review for the products they purchased. Additionally, other users can evaluate the initial rating and review by expressing their trust or distrust.\n",
        "\n",
        "This dataset includes a wealth of information for each user. Details such as their profile, ID, gender, city of birth, product ratings (on a scale of 1-5), reviews, and the prices of the products they purchased are all included. Moreover, for each product rating, we have information about the product name, ID, price, and category, the rating score, the timestamp of the rating and review, and the average helpfulness of the rating given by others (on a scale of 1-5).\n",
        "\n",
        "The dataset is from several data sources, and we have merged all the data into a single CSV file named 'A Combined E-commerce Dataset.csv'. The structure of this dataset is represented in the header shown below.\n",
        "\n",
        "| userId | gender | rating | review| item | category | helpfulness | timestamp | item_id | item_price | user_city|\n",
        "\n",
        "    | ---- | ---- | ---- | ---- | ---- | ---- | ---- | ---- | ---- |  ---- |  ---- |  \n",
        "    \n",
        "#### Description of Fields\n",
        "\n",
        "* __userId__ - the user's id\n",
        "* __gender__ - the user's gender\n",
        "* __rating__ - the user's rating towards the item\n",
        "* __review__ - the user's review towards the item\n",
        "* __item__ - the item's name\n",
        "* __category__ - the category of the item\n",
        "* __helpfulness__ - the average helpfulness of this rating\n",
        "* __timestamp__ - the timestamp when the rating is created\n",
        "* __item_id__ - the item's id\n",
        "* __item_price__ - the item's price\n",
        "* __user_city__ - the city of user's birth\n",
        "\n",
        "Note that, a user may rate multiple items and an item may receive ratings and reviews from multiple users. The \"helpfulness\" is an average value based on all the helpfulness values given by others.\n",
        "\n",
        "There are four questions to explore with the data as shown below.\n",
        "\n",
        "\n",
        "\n",
        "<img src=\"data-relation.png\" align=\"left\" width=\"400\"/>\n",
        "(You can find the data relation diagram on iLearn - Portfolio Part 1 resources - Fig1)\n"
      ],
      "id": "skHfgkqlqndO"
    },
    {
      "cell_type": "code",
      "source": [
        "student_name = \"Ngoc Tram Tran\"\n",
        "student_id = \"47753595\""
      ],
      "metadata": {
        "id": "Xte6mJEw_gyb"
      },
      "id": "Xte6mJEw_gyb",
      "execution_count": 100,
      "outputs": []
    },
    {
      "cell_type": "code",
      "source": [
        "from google.colab import drive\n",
        "drive.mount('/content/drive')"
      ],
      "metadata": {
        "colab": {
          "base_uri": "https://localhost:8080/"
        },
        "id": "HbX8pU2ywXdv",
        "outputId": "72a48ff2-8e24-4615-9bf6-32bedbe211df"
      },
      "id": "HbX8pU2ywXdv",
      "execution_count": 101,
      "outputs": [
        {
          "output_type": "stream",
          "name": "stdout",
          "text": [
            "Drive already mounted at /content/drive; to attempt to forcibly remount, call drive.mount(\"/content/drive\", force_remount=True).\n"
          ]
        }
      ]
    },
    {
      "cell_type": "markdown",
      "metadata": {
        "id": "-tb7B7VTqndQ"
      },
      "source": [
        " #### Q1. Remove missing data\n",
        "\n",
        "Please remove the following records in the csv file:\n",
        "\n",
        " * gender/rating/helpfulness is missing\n",
        " * review is 'none'\n",
        "\n",
        "__Display the DataFrame, counting number of Null values in each column, and print the length of the data__ before and after removing the missing data.  "
      ],
      "id": "-tb7B7VTqndQ"
    },
    {
      "cell_type": "code",
      "source": [
        "import pandas as pd\n",
        "import numpy as np\n",
        "import seaborn as sns\n",
        "import matplotlib.pyplot as plt\n",
        "%matplotlib inline\n",
        "\n",
        "ds1 = '/content/drive/MyDrive/BA - Session 1 - 2024/COMP6200/Portfolio 1/The E-commerce Dataset.csv'"
      ],
      "metadata": {
        "id": "QklsTas_wjOs"
      },
      "id": "QklsTas_wjOs",
      "execution_count": 102,
      "outputs": []
    },
    {
      "cell_type": "markdown",
      "source": [
        "1.1 Display the dataframe"
      ],
      "metadata": {
        "id": "DZZZyTkyLjJU"
      },
      "id": "DZZZyTkyLjJU"
    },
    {
      "cell_type": "code",
      "source": [
        "df1 = pd.read_csv(ds1)\n",
        "df1.info()"
      ],
      "metadata": {
        "colab": {
          "base_uri": "https://localhost:8080/"
        },
        "id": "JfsKskEzvzyD",
        "outputId": "ca4dfeb5-b21a-420a-ab81-d5f422cbe97c"
      },
      "id": "JfsKskEzvzyD",
      "execution_count": 103,
      "outputs": [
        {
          "output_type": "stream",
          "name": "stdout",
          "text": [
            "<class 'pandas.core.frame.DataFrame'>\n",
            "RangeIndex: 20000 entries, 0 to 19999\n",
            "Data columns (total 11 columns):\n",
            " #   Column       Non-Null Count  Dtype  \n",
            "---  ------       --------------  -----  \n",
            " 0   userId       20000 non-null  int64  \n",
            " 1   timestamp    20000 non-null  int64  \n",
            " 2   review       20000 non-null  object \n",
            " 3   item         20000 non-null  object \n",
            " 4   rating       19983 non-null  float64\n",
            " 5   helpfulness  19978 non-null  float64\n",
            " 6   gender       19973 non-null  object \n",
            " 7   category     20000 non-null  object \n",
            " 8   item_id      20000 non-null  int64  \n",
            " 9   item_price   20000 non-null  float64\n",
            " 10  user_city    20000 non-null  int64  \n",
            "dtypes: float64(3), int64(4), object(4)\n",
            "memory usage: 1.7+ MB\n"
          ]
        }
      ]
    },
    {
      "cell_type": "code",
      "source": [
        "print(df1)"
      ],
      "metadata": {
        "id": "cMAauAYZxW7K",
        "colab": {
          "base_uri": "https://localhost:8080/"
        },
        "outputId": "3d985b50-8706-4a09-a152-422890238e56"
      },
      "id": "cMAauAYZxW7K",
      "execution_count": 104,
      "outputs": [
        {
          "output_type": "stream",
          "name": "stdout",
          "text": [
            "       userId  timestamp                                    review  \\\n",
            "0        4051      12807                 Great job for what it is!   \n",
            "1        4052     122899               Free Access Worth your Time   \n",
            "2          33      12700             AOL..I love you!!!!!!!!!!!!     \n",
            "3          33      21000              EBAY!!!  I LOVE YOU!!!! :-)*   \n",
            "4          33      22300           Blair Witch...Oh Come On.......   \n",
            "...       ...        ...                                       ...   \n",
            "19995   10805      50600                 The Upper Class Fast Food   \n",
            "19996   10806      82201             What more can you ask for????   \n",
            "19997   10806      82201          Excellent steak for a good price   \n",
            "19998   10807      31504                     Different story world   \n",
            "19999   10808      10200  Boldly Displaying Sigourneys Cleavage ..   \n",
            "\n",
            "                                                    item  rating  helpfulness  \\\n",
            "0                                                   eBay     5.0          2.0   \n",
            "1                                                NetZero     5.0          0.0   \n",
            "2                                   AOL (America Online)     5.0          4.0   \n",
            "3                                                   eBay     5.0          4.0   \n",
            "4                                    Blair Witch Project     1.0          4.0   \n",
            "...                                                  ...     ...          ...   \n",
            "19995                                            Wendy's     2.0          3.0   \n",
            "19996                                       Olive Garden     4.0          0.0   \n",
            "19997                                 Outback Steakhouse     4.0          3.0   \n",
            "19998  J. K. Rowling - Harry Potter and the Sorcerer'...     4.0          0.0   \n",
            "19999                                       Galaxy Quest     4.0          0.0   \n",
            "\n",
            "      gender                  category  item_id  item_price  user_city  \n",
            "0          F  Online Stores & Services       88      149.00         39  \n",
            "1          F  Online Stores & Services       46       53.00         39  \n",
            "2          F  Online Stores & Services        0      145.84         31  \n",
            "3          F  Online Stores & Services       88      149.00         31  \n",
            "4          F                    Movies       12       44.00         31  \n",
            "...      ...                       ...      ...         ...        ...  \n",
            "19995      F     Restaurants & Gourmet       84       69.00         18  \n",
            "19996      M     Restaurants & Gourmet       49       32.00         28  \n",
            "19997      M     Restaurants & Gourmet       50       25.00         28  \n",
            "19998      M                     Books       36       96.00         27  \n",
            "19999      M                    Movies       29       67.00         11  \n",
            "\n",
            "[20000 rows x 11 columns]\n"
          ]
        }
      ]
    },
    {
      "cell_type": "markdown",
      "source": [
        "1.2 Counting number of Null values in each column (gender/rating/helpfulness/ review is 'none')"
      ],
      "metadata": {
        "id": "txLXV9BDMRNc"
      },
      "id": "txLXV9BDMRNc"
    },
    {
      "cell_type": "code",
      "source": [
        "df1.isnull().sum()\n",
        "\n",
        "# gender, rating, helpfulness\n",
        "print(\"The missing values in columns of gender are\" , df1['gender'].isna().sum())\n",
        "print(\"The missing values in columns of rating are\" , df1['rating'].isna().sum())\n",
        "print(\"The missing values in columns of helpfulness are\" , df1['helpfulness'].isna().sum())\n",
        "\n",
        "missing_rows = df1[(df1.gender.isna() == True) | (df1.rating.isna()) | (df1.helpfulness.isna() == True)]\n",
        "\n",
        "\n",
        "# review is 'none'\n",
        "review_none_rows = df1[df1.review == 'none']\n",
        "print(\"The 'none' values in column of review are\", len(review_none_rows))"
      ],
      "metadata": {
        "colab": {
          "base_uri": "https://localhost:8080/"
        },
        "id": "9p5YWz_AxEsC",
        "outputId": "42967673-be31-4301-9463-0029f0320425"
      },
      "id": "9p5YWz_AxEsC",
      "execution_count": 105,
      "outputs": [
        {
          "output_type": "stream",
          "name": "stdout",
          "text": [
            "The missing values in columns of gender are 27\n",
            "The missing values in columns of rating are 17\n",
            "The missing values in columns of helpfulness are 22\n",
            "The 'none' values in column of review are 18\n"
          ]
        }
      ]
    },
    {
      "cell_type": "markdown",
      "source": [
        "1.3 Print the length of the data"
      ],
      "metadata": {
        "id": "CP8BzCh2Mkqy"
      },
      "id": "CP8BzCh2Mkqy"
    },
    {
      "cell_type": "code",
      "source": [
        "# Before remove\n",
        "print(\"The original data has\", len(df1), \"rows\")"
      ],
      "metadata": {
        "colab": {
          "base_uri": "https://localhost:8080/"
        },
        "id": "gKO_RoHSMwwf",
        "outputId": "36fbaa1b-6f97-465c-fd3a-c7a960971a7d"
      },
      "id": "gKO_RoHSMwwf",
      "execution_count": 106,
      "outputs": [
        {
          "output_type": "stream",
          "name": "stdout",
          "text": [
            "The original data has 20000 rows\n"
          ]
        }
      ]
    },
    {
      "cell_type": "code",
      "source": [
        "# Remove the data\n",
        "remove_index = missing_rows.index.union(review_none_rows.index)\n",
        "print('In combine, there are', len(remove_index), 'rows needed to be removed')\n",
        "df1_clean = df1.drop(index=remove_index)\n",
        "print('Data after removal has', len(df1_clean), 'rows')"
      ],
      "metadata": {
        "colab": {
          "base_uri": "https://localhost:8080/"
        },
        "id": "hiOeSTyF6mll",
        "outputId": "ad650f7c-27b0-4ff6-87e4-5bda6143b58f"
      },
      "id": "hiOeSTyF6mll",
      "execution_count": 107,
      "outputs": [
        {
          "output_type": "stream",
          "name": "stdout",
          "text": [
            "In combine, there are 84 rows needed to be removed\n",
            "Data after removal has 19916 rows\n"
          ]
        }
      ]
    },
    {
      "cell_type": "markdown",
      "source": [
        "1.4 Display the data frame after remove"
      ],
      "metadata": {
        "id": "YSH8_8U1M_o2"
      },
      "id": "YSH8_8U1M_o2"
    },
    {
      "cell_type": "code",
      "source": [
        "print(df1_clean)"
      ],
      "metadata": {
        "colab": {
          "base_uri": "https://localhost:8080/"
        },
        "id": "VYZJTIl5FHGz",
        "outputId": "15bf798a-a362-40a1-fe70-069360a7066d"
      },
      "id": "VYZJTIl5FHGz",
      "execution_count": 108,
      "outputs": [
        {
          "output_type": "stream",
          "name": "stdout",
          "text": [
            "       userId  timestamp                                    review  \\\n",
            "0        4051      12807                 Great job for what it is!   \n",
            "1        4052     122899               Free Access Worth your Time   \n",
            "2          33      12700             AOL..I love you!!!!!!!!!!!!     \n",
            "3          33      21000              EBAY!!!  I LOVE YOU!!!! :-)*   \n",
            "4          33      22300           Blair Witch...Oh Come On.......   \n",
            "...       ...        ...                                       ...   \n",
            "19995   10805      50600                 The Upper Class Fast Food   \n",
            "19996   10806      82201             What more can you ask for????   \n",
            "19997   10806      82201          Excellent steak for a good price   \n",
            "19998   10807      31504                     Different story world   \n",
            "19999   10808      10200  Boldly Displaying Sigourneys Cleavage ..   \n",
            "\n",
            "                                                    item  rating  helpfulness  \\\n",
            "0                                                   eBay     5.0          2.0   \n",
            "1                                                NetZero     5.0          0.0   \n",
            "2                                   AOL (America Online)     5.0          4.0   \n",
            "3                                                   eBay     5.0          4.0   \n",
            "4                                    Blair Witch Project     1.0          4.0   \n",
            "...                                                  ...     ...          ...   \n",
            "19995                                            Wendy's     2.0          3.0   \n",
            "19996                                       Olive Garden     4.0          0.0   \n",
            "19997                                 Outback Steakhouse     4.0          3.0   \n",
            "19998  J. K. Rowling - Harry Potter and the Sorcerer'...     4.0          0.0   \n",
            "19999                                       Galaxy Quest     4.0          0.0   \n",
            "\n",
            "      gender                  category  item_id  item_price  user_city  \n",
            "0          F  Online Stores & Services       88      149.00         39  \n",
            "1          F  Online Stores & Services       46       53.00         39  \n",
            "2          F  Online Stores & Services        0      145.84         31  \n",
            "3          F  Online Stores & Services       88      149.00         31  \n",
            "4          F                    Movies       12       44.00         31  \n",
            "...      ...                       ...      ...         ...        ...  \n",
            "19995      F     Restaurants & Gourmet       84       69.00         18  \n",
            "19996      M     Restaurants & Gourmet       49       32.00         28  \n",
            "19997      M     Restaurants & Gourmet       50       25.00         28  \n",
            "19998      M                     Books       36       96.00         27  \n",
            "19999      M                    Movies       29       67.00         11  \n",
            "\n",
            "[19916 rows x 11 columns]\n"
          ]
        }
      ]
    },
    {
      "cell_type": "markdown",
      "metadata": {
        "id": "EJG9_LEmqndR"
      },
      "source": [
        "#### Q2. Descriptive statistics\n",
        "\n",
        "With the cleaned data in Q1, please provide the data summarization as below:\n",
        "\n",
        "* Q2.1 total number of unique users, unique reviews, unique items, and unique categories\n",
        "* Q2.2 descriptive statistics, e.g., the total number, mean, std, min and max regarding all rating records\n",
        "* Q2.3 descriptive statistics, e.g., mean, std, max, and min of the number of items rated by different genders\n",
        "* Q2.4 descriptive statistics, e.g., mean, std, max, min of the number of ratings that received by each items\n"
      ],
      "id": "EJG9_LEmqndR"
    },
    {
      "cell_type": "markdown",
      "source": [
        "2.1 Total number of unique users, unique reviews, unique items, and unique categories**"
      ],
      "metadata": {
        "id": "oEZaT5_rRaSS"
      },
      "id": "oEZaT5_rRaSS"
    },
    {
      "cell_type": "code",
      "execution_count": 109,
      "metadata": {
        "id": "-fiucmwsqndR",
        "colab": {
          "base_uri": "https://localhost:8080/"
        },
        "outputId": "c13e731c-7118-4ec6-d0d4-095704e9e7aa"
      },
      "outputs": [
        {
          "output_type": "stream",
          "name": "stdout",
          "text": [
            "Total number is 30626\n",
            "Number of unique for each fields\n"
          ]
        },
        {
          "output_type": "execute_result",
          "data": {
            "text/plain": [
              "userId          8562\n",
              "timestamp       2283\n",
              "review         19459\n",
              "item              89\n",
              "rating             5\n",
              "helpfulness        5\n",
              "gender             2\n",
              "category           9\n",
              "item_id           89\n",
              "item_price        83\n",
              "user_city         40\n",
              "dtype: int64"
            ]
          },
          "metadata": {},
          "execution_count": 109
        }
      ],
      "source": [
        "print('Total number is', df1_clean.nunique().sum())\n",
        "\n",
        "print('Number of unique for each fields')\n",
        "df1_clean.nunique()"
      ],
      "id": "-fiucmwsqndR"
    },
    {
      "cell_type": "markdown",
      "source": [
        "Q2.2 Descriptive statistics, e.g., the total number, mean, std, min and max regarding all rating records**"
      ],
      "metadata": {
        "id": "TbMP4kmORfv4"
      },
      "id": "TbMP4kmORfv4"
    },
    {
      "cell_type": "code",
      "source": [
        "df1_clean['rating'].describe()"
      ],
      "metadata": {
        "colab": {
          "base_uri": "https://localhost:8080/"
        },
        "id": "nNNRu7imQUJC",
        "outputId": "bdfab5d9-13f6-4e45-8cc8-6d013526271e"
      },
      "id": "nNNRu7imQUJC",
      "execution_count": 110,
      "outputs": [
        {
          "output_type": "execute_result",
          "data": {
            "text/plain": [
              "count    19916.000000\n",
              "mean         3.701798\n",
              "std          1.404451\n",
              "min          1.000000\n",
              "25%          3.000000\n",
              "50%          4.000000\n",
              "75%          5.000000\n",
              "max          5.000000\n",
              "Name: rating, dtype: float64"
            ]
          },
          "metadata": {},
          "execution_count": 110
        }
      ]
    },
    {
      "cell_type": "markdown",
      "source": [
        "Q2.3 Descriptive statistics, e.g., mean, std, max, and min of the number of items rated by different genders**"
      ],
      "metadata": {
        "id": "uA0VsBSqR1QT"
      },
      "id": "uA0VsBSqR1QT"
    },
    {
      "cell_type": "code",
      "source": [
        "# group number of ratings by userId\n",
        "items_by_user = df1_clean[['item','userId','gender']].groupby(by=['userId','gender']).count().reset_index().sort_values(by='item')\n",
        "print('Number of item review by each user')\n",
        "items_by_user.head()"
      ],
      "metadata": {
        "colab": {
          "base_uri": "https://localhost:8080/",
          "height": 224
        },
        "id": "p9AfqfUESDgx",
        "outputId": "ae5ed3cf-8f66-4bae-c194-8968c89e0344"
      },
      "id": "p9AfqfUESDgx",
      "execution_count": 111,
      "outputs": [
        {
          "output_type": "stream",
          "name": "stdout",
          "text": [
            "Number of item review by each user\n"
          ]
        },
        {
          "output_type": "execute_result",
          "data": {
            "text/plain": [
              "      userId gender  item\n",
              "4280    6136      M     1\n",
              "4928    6831      M     1\n",
              "4927    6830      F     1\n",
              "4924    6827      M     1\n",
              "4923    6826      F     1"
            ],
            "text/html": [
              "\n",
              "  <div id=\"df-270920a1-4262-4c53-be84-c851eeceff3d\" class=\"colab-df-container\">\n",
              "    <div>\n",
              "<style scoped>\n",
              "    .dataframe tbody tr th:only-of-type {\n",
              "        vertical-align: middle;\n",
              "    }\n",
              "\n",
              "    .dataframe tbody tr th {\n",
              "        vertical-align: top;\n",
              "    }\n",
              "\n",
              "    .dataframe thead th {\n",
              "        text-align: right;\n",
              "    }\n",
              "</style>\n",
              "<table border=\"1\" class=\"dataframe\">\n",
              "  <thead>\n",
              "    <tr style=\"text-align: right;\">\n",
              "      <th></th>\n",
              "      <th>userId</th>\n",
              "      <th>gender</th>\n",
              "      <th>item</th>\n",
              "    </tr>\n",
              "  </thead>\n",
              "  <tbody>\n",
              "    <tr>\n",
              "      <th>4280</th>\n",
              "      <td>6136</td>\n",
              "      <td>M</td>\n",
              "      <td>1</td>\n",
              "    </tr>\n",
              "    <tr>\n",
              "      <th>4928</th>\n",
              "      <td>6831</td>\n",
              "      <td>M</td>\n",
              "      <td>1</td>\n",
              "    </tr>\n",
              "    <tr>\n",
              "      <th>4927</th>\n",
              "      <td>6830</td>\n",
              "      <td>F</td>\n",
              "      <td>1</td>\n",
              "    </tr>\n",
              "    <tr>\n",
              "      <th>4924</th>\n",
              "      <td>6827</td>\n",
              "      <td>M</td>\n",
              "      <td>1</td>\n",
              "    </tr>\n",
              "    <tr>\n",
              "      <th>4923</th>\n",
              "      <td>6826</td>\n",
              "      <td>F</td>\n",
              "      <td>1</td>\n",
              "    </tr>\n",
              "  </tbody>\n",
              "</table>\n",
              "</div>\n",
              "    <div class=\"colab-df-buttons\">\n",
              "\n",
              "  <div class=\"colab-df-container\">\n",
              "    <button class=\"colab-df-convert\" onclick=\"convertToInteractive('df-270920a1-4262-4c53-be84-c851eeceff3d')\"\n",
              "            title=\"Convert this dataframe to an interactive table.\"\n",
              "            style=\"display:none;\">\n",
              "\n",
              "  <svg xmlns=\"http://www.w3.org/2000/svg\" height=\"24px\" viewBox=\"0 -960 960 960\">\n",
              "    <path d=\"M120-120v-720h720v720H120Zm60-500h600v-160H180v160Zm220 220h160v-160H400v160Zm0 220h160v-160H400v160ZM180-400h160v-160H180v160Zm440 0h160v-160H620v160ZM180-180h160v-160H180v160Zm440 0h160v-160H620v160Z\"/>\n",
              "  </svg>\n",
              "    </button>\n",
              "\n",
              "  <style>\n",
              "    .colab-df-container {\n",
              "      display:flex;\n",
              "      gap: 12px;\n",
              "    }\n",
              "\n",
              "    .colab-df-convert {\n",
              "      background-color: #E8F0FE;\n",
              "      border: none;\n",
              "      border-radius: 50%;\n",
              "      cursor: pointer;\n",
              "      display: none;\n",
              "      fill: #1967D2;\n",
              "      height: 32px;\n",
              "      padding: 0 0 0 0;\n",
              "      width: 32px;\n",
              "    }\n",
              "\n",
              "    .colab-df-convert:hover {\n",
              "      background-color: #E2EBFA;\n",
              "      box-shadow: 0px 1px 2px rgba(60, 64, 67, 0.3), 0px 1px 3px 1px rgba(60, 64, 67, 0.15);\n",
              "      fill: #174EA6;\n",
              "    }\n",
              "\n",
              "    .colab-df-buttons div {\n",
              "      margin-bottom: 4px;\n",
              "    }\n",
              "\n",
              "    [theme=dark] .colab-df-convert {\n",
              "      background-color: #3B4455;\n",
              "      fill: #D2E3FC;\n",
              "    }\n",
              "\n",
              "    [theme=dark] .colab-df-convert:hover {\n",
              "      background-color: #434B5C;\n",
              "      box-shadow: 0px 1px 3px 1px rgba(0, 0, 0, 0.15);\n",
              "      filter: drop-shadow(0px 1px 2px rgba(0, 0, 0, 0.3));\n",
              "      fill: #FFFFFF;\n",
              "    }\n",
              "  </style>\n",
              "\n",
              "    <script>\n",
              "      const buttonEl =\n",
              "        document.querySelector('#df-270920a1-4262-4c53-be84-c851eeceff3d button.colab-df-convert');\n",
              "      buttonEl.style.display =\n",
              "        google.colab.kernel.accessAllowed ? 'block' : 'none';\n",
              "\n",
              "      async function convertToInteractive(key) {\n",
              "        const element = document.querySelector('#df-270920a1-4262-4c53-be84-c851eeceff3d');\n",
              "        const dataTable =\n",
              "          await google.colab.kernel.invokeFunction('convertToInteractive',\n",
              "                                                    [key], {});\n",
              "        if (!dataTable) return;\n",
              "\n",
              "        const docLinkHtml = 'Like what you see? Visit the ' +\n",
              "          '<a target=\"_blank\" href=https://colab.research.google.com/notebooks/data_table.ipynb>data table notebook</a>'\n",
              "          + ' to learn more about interactive tables.';\n",
              "        element.innerHTML = '';\n",
              "        dataTable['output_type'] = 'display_data';\n",
              "        await google.colab.output.renderOutput(dataTable, element);\n",
              "        const docLink = document.createElement('div');\n",
              "        docLink.innerHTML = docLinkHtml;\n",
              "        element.appendChild(docLink);\n",
              "      }\n",
              "    </script>\n",
              "  </div>\n",
              "\n",
              "\n",
              "<div id=\"df-92f9e9af-9afa-419b-95d8-eadb2a83dbaa\">\n",
              "  <button class=\"colab-df-quickchart\" onclick=\"quickchart('df-92f9e9af-9afa-419b-95d8-eadb2a83dbaa')\"\n",
              "            title=\"Suggest charts\"\n",
              "            style=\"display:none;\">\n",
              "\n",
              "<svg xmlns=\"http://www.w3.org/2000/svg\" height=\"24px\"viewBox=\"0 0 24 24\"\n",
              "     width=\"24px\">\n",
              "    <g>\n",
              "        <path d=\"M19 3H5c-1.1 0-2 .9-2 2v14c0 1.1.9 2 2 2h14c1.1 0 2-.9 2-2V5c0-1.1-.9-2-2-2zM9 17H7v-7h2v7zm4 0h-2V7h2v10zm4 0h-2v-4h2v4z\"/>\n",
              "    </g>\n",
              "</svg>\n",
              "  </button>\n",
              "\n",
              "<style>\n",
              "  .colab-df-quickchart {\n",
              "      --bg-color: #E8F0FE;\n",
              "      --fill-color: #1967D2;\n",
              "      --hover-bg-color: #E2EBFA;\n",
              "      --hover-fill-color: #174EA6;\n",
              "      --disabled-fill-color: #AAA;\n",
              "      --disabled-bg-color: #DDD;\n",
              "  }\n",
              "\n",
              "  [theme=dark] .colab-df-quickchart {\n",
              "      --bg-color: #3B4455;\n",
              "      --fill-color: #D2E3FC;\n",
              "      --hover-bg-color: #434B5C;\n",
              "      --hover-fill-color: #FFFFFF;\n",
              "      --disabled-bg-color: #3B4455;\n",
              "      --disabled-fill-color: #666;\n",
              "  }\n",
              "\n",
              "  .colab-df-quickchart {\n",
              "    background-color: var(--bg-color);\n",
              "    border: none;\n",
              "    border-radius: 50%;\n",
              "    cursor: pointer;\n",
              "    display: none;\n",
              "    fill: var(--fill-color);\n",
              "    height: 32px;\n",
              "    padding: 0;\n",
              "    width: 32px;\n",
              "  }\n",
              "\n",
              "  .colab-df-quickchart:hover {\n",
              "    background-color: var(--hover-bg-color);\n",
              "    box-shadow: 0 1px 2px rgba(60, 64, 67, 0.3), 0 1px 3px 1px rgba(60, 64, 67, 0.15);\n",
              "    fill: var(--button-hover-fill-color);\n",
              "  }\n",
              "\n",
              "  .colab-df-quickchart-complete:disabled,\n",
              "  .colab-df-quickchart-complete:disabled:hover {\n",
              "    background-color: var(--disabled-bg-color);\n",
              "    fill: var(--disabled-fill-color);\n",
              "    box-shadow: none;\n",
              "  }\n",
              "\n",
              "  .colab-df-spinner {\n",
              "    border: 2px solid var(--fill-color);\n",
              "    border-color: transparent;\n",
              "    border-bottom-color: var(--fill-color);\n",
              "    animation:\n",
              "      spin 1s steps(1) infinite;\n",
              "  }\n",
              "\n",
              "  @keyframes spin {\n",
              "    0% {\n",
              "      border-color: transparent;\n",
              "      border-bottom-color: var(--fill-color);\n",
              "      border-left-color: var(--fill-color);\n",
              "    }\n",
              "    20% {\n",
              "      border-color: transparent;\n",
              "      border-left-color: var(--fill-color);\n",
              "      border-top-color: var(--fill-color);\n",
              "    }\n",
              "    30% {\n",
              "      border-color: transparent;\n",
              "      border-left-color: var(--fill-color);\n",
              "      border-top-color: var(--fill-color);\n",
              "      border-right-color: var(--fill-color);\n",
              "    }\n",
              "    40% {\n",
              "      border-color: transparent;\n",
              "      border-right-color: var(--fill-color);\n",
              "      border-top-color: var(--fill-color);\n",
              "    }\n",
              "    60% {\n",
              "      border-color: transparent;\n",
              "      border-right-color: var(--fill-color);\n",
              "    }\n",
              "    80% {\n",
              "      border-color: transparent;\n",
              "      border-right-color: var(--fill-color);\n",
              "      border-bottom-color: var(--fill-color);\n",
              "    }\n",
              "    90% {\n",
              "      border-color: transparent;\n",
              "      border-bottom-color: var(--fill-color);\n",
              "    }\n",
              "  }\n",
              "</style>\n",
              "\n",
              "  <script>\n",
              "    async function quickchart(key) {\n",
              "      const quickchartButtonEl =\n",
              "        document.querySelector('#' + key + ' button');\n",
              "      quickchartButtonEl.disabled = true;  // To prevent multiple clicks.\n",
              "      quickchartButtonEl.classList.add('colab-df-spinner');\n",
              "      try {\n",
              "        const charts = await google.colab.kernel.invokeFunction(\n",
              "            'suggestCharts', [key], {});\n",
              "      } catch (error) {\n",
              "        console.error('Error during call to suggestCharts:', error);\n",
              "      }\n",
              "      quickchartButtonEl.classList.remove('colab-df-spinner');\n",
              "      quickchartButtonEl.classList.add('colab-df-quickchart-complete');\n",
              "    }\n",
              "    (() => {\n",
              "      let quickchartButtonEl =\n",
              "        document.querySelector('#df-92f9e9af-9afa-419b-95d8-eadb2a83dbaa button');\n",
              "      quickchartButtonEl.style.display =\n",
              "        google.colab.kernel.accessAllowed ? 'block' : 'none';\n",
              "    })();\n",
              "  </script>\n",
              "</div>\n",
              "    </div>\n",
              "  </div>\n"
            ],
            "application/vnd.google.colaboratory.intrinsic+json": {
              "type": "dataframe",
              "variable_name": "items_by_user",
              "summary": "{\n  \"name\": \"items_by_user\",\n  \"rows\": 8562,\n  \"fields\": [\n    {\n      \"column\": \"userId\",\n      \"properties\": {\n        \"dtype\": \"number\",\n        \"std\": 3241,\n        \"min\": 0,\n        \"max\": 10808,\n        \"num_unique_values\": 8562,\n        \"samples\": [\n          1299,\n          1158,\n          10362\n        ],\n        \"semantic_type\": \"\",\n        \"description\": \"\"\n      }\n    },\n    {\n      \"column\": \"gender\",\n      \"properties\": {\n        \"dtype\": \"category\",\n        \"num_unique_values\": 2,\n        \"samples\": [\n          \"F\",\n          \"M\"\n        ],\n        \"semantic_type\": \"\",\n        \"description\": \"\"\n      }\n    },\n    {\n      \"column\": \"item\",\n      \"properties\": {\n        \"dtype\": \"number\",\n        \"std\": 2,\n        \"min\": 1,\n        \"max\": 45,\n        \"num_unique_values\": 28,\n        \"samples\": [\n          10,\n          29\n        ],\n        \"semantic_type\": \"\",\n        \"description\": \"\"\n      }\n    }\n  ]\n}"
            }
          },
          "metadata": {},
          "execution_count": 111
        }
      ]
    },
    {
      "cell_type": "code",
      "source": [
        "# descriptive statistics for both genders\n",
        "print('Descriptive statistic for each genders')\n",
        "items_by_user.groupby('gender').item.describe()"
      ],
      "metadata": {
        "colab": {
          "base_uri": "https://localhost:8080/",
          "height": 161
        },
        "id": "DiKusXxQSUPd",
        "outputId": "c794c21c-a5d9-402c-d52a-3219c8dd3be4"
      },
      "id": "DiKusXxQSUPd",
      "execution_count": 112,
      "outputs": [
        {
          "output_type": "stream",
          "name": "stdout",
          "text": [
            "Descriptive statistic for each genders\n"
          ]
        },
        {
          "output_type": "execute_result",
          "data": {
            "text/plain": [
              "         count      mean       std  min  25%  50%  75%   max\n",
              "gender                                                      \n",
              "F       4233.0  2.313489  2.490008  1.0  1.0  1.0  3.0  34.0\n",
              "M       4329.0  2.338415  2.617093  1.0  1.0  1.0  3.0  45.0"
            ],
            "text/html": [
              "\n",
              "  <div id=\"df-017956eb-57df-4dd0-9a07-fbc03bf525c8\" class=\"colab-df-container\">\n",
              "    <div>\n",
              "<style scoped>\n",
              "    .dataframe tbody tr th:only-of-type {\n",
              "        vertical-align: middle;\n",
              "    }\n",
              "\n",
              "    .dataframe tbody tr th {\n",
              "        vertical-align: top;\n",
              "    }\n",
              "\n",
              "    .dataframe thead th {\n",
              "        text-align: right;\n",
              "    }\n",
              "</style>\n",
              "<table border=\"1\" class=\"dataframe\">\n",
              "  <thead>\n",
              "    <tr style=\"text-align: right;\">\n",
              "      <th></th>\n",
              "      <th>count</th>\n",
              "      <th>mean</th>\n",
              "      <th>std</th>\n",
              "      <th>min</th>\n",
              "      <th>25%</th>\n",
              "      <th>50%</th>\n",
              "      <th>75%</th>\n",
              "      <th>max</th>\n",
              "    </tr>\n",
              "    <tr>\n",
              "      <th>gender</th>\n",
              "      <th></th>\n",
              "      <th></th>\n",
              "      <th></th>\n",
              "      <th></th>\n",
              "      <th></th>\n",
              "      <th></th>\n",
              "      <th></th>\n",
              "      <th></th>\n",
              "    </tr>\n",
              "  </thead>\n",
              "  <tbody>\n",
              "    <tr>\n",
              "      <th>F</th>\n",
              "      <td>4233.0</td>\n",
              "      <td>2.313489</td>\n",
              "      <td>2.490008</td>\n",
              "      <td>1.0</td>\n",
              "      <td>1.0</td>\n",
              "      <td>1.0</td>\n",
              "      <td>3.0</td>\n",
              "      <td>34.0</td>\n",
              "    </tr>\n",
              "    <tr>\n",
              "      <th>M</th>\n",
              "      <td>4329.0</td>\n",
              "      <td>2.338415</td>\n",
              "      <td>2.617093</td>\n",
              "      <td>1.0</td>\n",
              "      <td>1.0</td>\n",
              "      <td>1.0</td>\n",
              "      <td>3.0</td>\n",
              "      <td>45.0</td>\n",
              "    </tr>\n",
              "  </tbody>\n",
              "</table>\n",
              "</div>\n",
              "    <div class=\"colab-df-buttons\">\n",
              "\n",
              "  <div class=\"colab-df-container\">\n",
              "    <button class=\"colab-df-convert\" onclick=\"convertToInteractive('df-017956eb-57df-4dd0-9a07-fbc03bf525c8')\"\n",
              "            title=\"Convert this dataframe to an interactive table.\"\n",
              "            style=\"display:none;\">\n",
              "\n",
              "  <svg xmlns=\"http://www.w3.org/2000/svg\" height=\"24px\" viewBox=\"0 -960 960 960\">\n",
              "    <path d=\"M120-120v-720h720v720H120Zm60-500h600v-160H180v160Zm220 220h160v-160H400v160Zm0 220h160v-160H400v160ZM180-400h160v-160H180v160Zm440 0h160v-160H620v160ZM180-180h160v-160H180v160Zm440 0h160v-160H620v160Z\"/>\n",
              "  </svg>\n",
              "    </button>\n",
              "\n",
              "  <style>\n",
              "    .colab-df-container {\n",
              "      display:flex;\n",
              "      gap: 12px;\n",
              "    }\n",
              "\n",
              "    .colab-df-convert {\n",
              "      background-color: #E8F0FE;\n",
              "      border: none;\n",
              "      border-radius: 50%;\n",
              "      cursor: pointer;\n",
              "      display: none;\n",
              "      fill: #1967D2;\n",
              "      height: 32px;\n",
              "      padding: 0 0 0 0;\n",
              "      width: 32px;\n",
              "    }\n",
              "\n",
              "    .colab-df-convert:hover {\n",
              "      background-color: #E2EBFA;\n",
              "      box-shadow: 0px 1px 2px rgba(60, 64, 67, 0.3), 0px 1px 3px 1px rgba(60, 64, 67, 0.15);\n",
              "      fill: #174EA6;\n",
              "    }\n",
              "\n",
              "    .colab-df-buttons div {\n",
              "      margin-bottom: 4px;\n",
              "    }\n",
              "\n",
              "    [theme=dark] .colab-df-convert {\n",
              "      background-color: #3B4455;\n",
              "      fill: #D2E3FC;\n",
              "    }\n",
              "\n",
              "    [theme=dark] .colab-df-convert:hover {\n",
              "      background-color: #434B5C;\n",
              "      box-shadow: 0px 1px 3px 1px rgba(0, 0, 0, 0.15);\n",
              "      filter: drop-shadow(0px 1px 2px rgba(0, 0, 0, 0.3));\n",
              "      fill: #FFFFFF;\n",
              "    }\n",
              "  </style>\n",
              "\n",
              "    <script>\n",
              "      const buttonEl =\n",
              "        document.querySelector('#df-017956eb-57df-4dd0-9a07-fbc03bf525c8 button.colab-df-convert');\n",
              "      buttonEl.style.display =\n",
              "        google.colab.kernel.accessAllowed ? 'block' : 'none';\n",
              "\n",
              "      async function convertToInteractive(key) {\n",
              "        const element = document.querySelector('#df-017956eb-57df-4dd0-9a07-fbc03bf525c8');\n",
              "        const dataTable =\n",
              "          await google.colab.kernel.invokeFunction('convertToInteractive',\n",
              "                                                    [key], {});\n",
              "        if (!dataTable) return;\n",
              "\n",
              "        const docLinkHtml = 'Like what you see? Visit the ' +\n",
              "          '<a target=\"_blank\" href=https://colab.research.google.com/notebooks/data_table.ipynb>data table notebook</a>'\n",
              "          + ' to learn more about interactive tables.';\n",
              "        element.innerHTML = '';\n",
              "        dataTable['output_type'] = 'display_data';\n",
              "        await google.colab.output.renderOutput(dataTable, element);\n",
              "        const docLink = document.createElement('div');\n",
              "        docLink.innerHTML = docLinkHtml;\n",
              "        element.appendChild(docLink);\n",
              "      }\n",
              "    </script>\n",
              "  </div>\n",
              "\n",
              "\n",
              "<div id=\"df-6bd474d5-0d44-41b8-9632-8e8127e76dad\">\n",
              "  <button class=\"colab-df-quickchart\" onclick=\"quickchart('df-6bd474d5-0d44-41b8-9632-8e8127e76dad')\"\n",
              "            title=\"Suggest charts\"\n",
              "            style=\"display:none;\">\n",
              "\n",
              "<svg xmlns=\"http://www.w3.org/2000/svg\" height=\"24px\"viewBox=\"0 0 24 24\"\n",
              "     width=\"24px\">\n",
              "    <g>\n",
              "        <path d=\"M19 3H5c-1.1 0-2 .9-2 2v14c0 1.1.9 2 2 2h14c1.1 0 2-.9 2-2V5c0-1.1-.9-2-2-2zM9 17H7v-7h2v7zm4 0h-2V7h2v10zm4 0h-2v-4h2v4z\"/>\n",
              "    </g>\n",
              "</svg>\n",
              "  </button>\n",
              "\n",
              "<style>\n",
              "  .colab-df-quickchart {\n",
              "      --bg-color: #E8F0FE;\n",
              "      --fill-color: #1967D2;\n",
              "      --hover-bg-color: #E2EBFA;\n",
              "      --hover-fill-color: #174EA6;\n",
              "      --disabled-fill-color: #AAA;\n",
              "      --disabled-bg-color: #DDD;\n",
              "  }\n",
              "\n",
              "  [theme=dark] .colab-df-quickchart {\n",
              "      --bg-color: #3B4455;\n",
              "      --fill-color: #D2E3FC;\n",
              "      --hover-bg-color: #434B5C;\n",
              "      --hover-fill-color: #FFFFFF;\n",
              "      --disabled-bg-color: #3B4455;\n",
              "      --disabled-fill-color: #666;\n",
              "  }\n",
              "\n",
              "  .colab-df-quickchart {\n",
              "    background-color: var(--bg-color);\n",
              "    border: none;\n",
              "    border-radius: 50%;\n",
              "    cursor: pointer;\n",
              "    display: none;\n",
              "    fill: var(--fill-color);\n",
              "    height: 32px;\n",
              "    padding: 0;\n",
              "    width: 32px;\n",
              "  }\n",
              "\n",
              "  .colab-df-quickchart:hover {\n",
              "    background-color: var(--hover-bg-color);\n",
              "    box-shadow: 0 1px 2px rgba(60, 64, 67, 0.3), 0 1px 3px 1px rgba(60, 64, 67, 0.15);\n",
              "    fill: var(--button-hover-fill-color);\n",
              "  }\n",
              "\n",
              "  .colab-df-quickchart-complete:disabled,\n",
              "  .colab-df-quickchart-complete:disabled:hover {\n",
              "    background-color: var(--disabled-bg-color);\n",
              "    fill: var(--disabled-fill-color);\n",
              "    box-shadow: none;\n",
              "  }\n",
              "\n",
              "  .colab-df-spinner {\n",
              "    border: 2px solid var(--fill-color);\n",
              "    border-color: transparent;\n",
              "    border-bottom-color: var(--fill-color);\n",
              "    animation:\n",
              "      spin 1s steps(1) infinite;\n",
              "  }\n",
              "\n",
              "  @keyframes spin {\n",
              "    0% {\n",
              "      border-color: transparent;\n",
              "      border-bottom-color: var(--fill-color);\n",
              "      border-left-color: var(--fill-color);\n",
              "    }\n",
              "    20% {\n",
              "      border-color: transparent;\n",
              "      border-left-color: var(--fill-color);\n",
              "      border-top-color: var(--fill-color);\n",
              "    }\n",
              "    30% {\n",
              "      border-color: transparent;\n",
              "      border-left-color: var(--fill-color);\n",
              "      border-top-color: var(--fill-color);\n",
              "      border-right-color: var(--fill-color);\n",
              "    }\n",
              "    40% {\n",
              "      border-color: transparent;\n",
              "      border-right-color: var(--fill-color);\n",
              "      border-top-color: var(--fill-color);\n",
              "    }\n",
              "    60% {\n",
              "      border-color: transparent;\n",
              "      border-right-color: var(--fill-color);\n",
              "    }\n",
              "    80% {\n",
              "      border-color: transparent;\n",
              "      border-right-color: var(--fill-color);\n",
              "      border-bottom-color: var(--fill-color);\n",
              "    }\n",
              "    90% {\n",
              "      border-color: transparent;\n",
              "      border-bottom-color: var(--fill-color);\n",
              "    }\n",
              "  }\n",
              "</style>\n",
              "\n",
              "  <script>\n",
              "    async function quickchart(key) {\n",
              "      const quickchartButtonEl =\n",
              "        document.querySelector('#' + key + ' button');\n",
              "      quickchartButtonEl.disabled = true;  // To prevent multiple clicks.\n",
              "      quickchartButtonEl.classList.add('colab-df-spinner');\n",
              "      try {\n",
              "        const charts = await google.colab.kernel.invokeFunction(\n",
              "            'suggestCharts', [key], {});\n",
              "      } catch (error) {\n",
              "        console.error('Error during call to suggestCharts:', error);\n",
              "      }\n",
              "      quickchartButtonEl.classList.remove('colab-df-spinner');\n",
              "      quickchartButtonEl.classList.add('colab-df-quickchart-complete');\n",
              "    }\n",
              "    (() => {\n",
              "      let quickchartButtonEl =\n",
              "        document.querySelector('#df-6bd474d5-0d44-41b8-9632-8e8127e76dad button');\n",
              "      quickchartButtonEl.style.display =\n",
              "        google.colab.kernel.accessAllowed ? 'block' : 'none';\n",
              "    })();\n",
              "  </script>\n",
              "</div>\n",
              "    </div>\n",
              "  </div>\n"
            ],
            "application/vnd.google.colaboratory.intrinsic+json": {
              "type": "dataframe",
              "summary": "{\n  \"name\": \"items_by_user\",\n  \"rows\": 2,\n  \"fields\": [\n    {\n      \"column\": \"gender\",\n      \"properties\": {\n        \"dtype\": \"string\",\n        \"num_unique_values\": 2,\n        \"samples\": [\n          \"M\",\n          \"F\"\n        ],\n        \"semantic_type\": \"\",\n        \"description\": \"\"\n      }\n    },\n    {\n      \"column\": \"count\",\n      \"properties\": {\n        \"dtype\": \"number\",\n        \"std\": 67.88225099390856,\n        \"min\": 4233.0,\n        \"max\": 4329.0,\n        \"num_unique_values\": 2,\n        \"samples\": [\n          4329.0,\n          4233.0\n        ],\n        \"semantic_type\": \"\",\n        \"description\": \"\"\n      }\n    },\n    {\n      \"column\": \"mean\",\n      \"properties\": {\n        \"dtype\": \"number\",\n        \"std\": 0.017625405353471443,\n        \"min\": 2.3134892511221357,\n        \"max\": 2.3384153384153383,\n        \"num_unique_values\": 2,\n        \"samples\": [\n          2.3384153384153383,\n          2.3134892511221357\n        ],\n        \"semantic_type\": \"\",\n        \"description\": \"\"\n      }\n    },\n    {\n      \"column\": \"std\",\n      \"properties\": {\n        \"dtype\": \"number\",\n        \"std\": 0.08986204841070584,\n        \"min\": 2.4900083777199487,\n        \"max\": 2.6170925053249965,\n        \"num_unique_values\": 2,\n        \"samples\": [\n          2.6170925053249965,\n          2.4900083777199487\n        ],\n        \"semantic_type\": \"\",\n        \"description\": \"\"\n      }\n    },\n    {\n      \"column\": \"min\",\n      \"properties\": {\n        \"dtype\": \"number\",\n        \"std\": 0.0,\n        \"min\": 1.0,\n        \"max\": 1.0,\n        \"num_unique_values\": 1,\n        \"samples\": [\n          1.0\n        ],\n        \"semantic_type\": \"\",\n        \"description\": \"\"\n      }\n    },\n    {\n      \"column\": \"25%\",\n      \"properties\": {\n        \"dtype\": \"number\",\n        \"std\": 0.0,\n        \"min\": 1.0,\n        \"max\": 1.0,\n        \"num_unique_values\": 1,\n        \"samples\": [\n          1.0\n        ],\n        \"semantic_type\": \"\",\n        \"description\": \"\"\n      }\n    },\n    {\n      \"column\": \"50%\",\n      \"properties\": {\n        \"dtype\": \"number\",\n        \"std\": 0.0,\n        \"min\": 1.0,\n        \"max\": 1.0,\n        \"num_unique_values\": 1,\n        \"samples\": [\n          1.0\n        ],\n        \"semantic_type\": \"\",\n        \"description\": \"\"\n      }\n    },\n    {\n      \"column\": \"75%\",\n      \"properties\": {\n        \"dtype\": \"number\",\n        \"std\": 0.0,\n        \"min\": 3.0,\n        \"max\": 3.0,\n        \"num_unique_values\": 1,\n        \"samples\": [\n          3.0\n        ],\n        \"semantic_type\": \"\",\n        \"description\": \"\"\n      }\n    },\n    {\n      \"column\": \"max\",\n      \"properties\": {\n        \"dtype\": \"number\",\n        \"std\": 7.7781745930520225,\n        \"min\": 34.0,\n        \"max\": 45.0,\n        \"num_unique_values\": 2,\n        \"samples\": [\n          45.0\n        ],\n        \"semantic_type\": \"\",\n        \"description\": \"\"\n      }\n    }\n  ]\n}"
            }
          },
          "metadata": {},
          "execution_count": 112
        }
      ]
    },
    {
      "cell_type": "markdown",
      "source": [
        "Q2.4 Descriptive statistics, e.g., mean, std, max, min of the number of ratings that received by each items**"
      ],
      "metadata": {
        "id": "IH_3_HKXSefu"
      },
      "id": "IH_3_HKXSefu"
    },
    {
      "cell_type": "code",
      "source": [
        "## number of rating received by each items\n",
        "rating_by_item = df1_clean[['item','rating']].groupby(by=['item']).count().reset_index().sort_values(by='rating')\n",
        "print('Number of rating correspond to each item')\n",
        "rating_by_item"
      ],
      "metadata": {
        "colab": {
          "base_uri": "https://localhost:8080/",
          "height": 442
        },
        "id": "DfmC7YekSdxW",
        "outputId": "472b5d75-9a1c-46fe-9707-90e1fedc15c7"
      },
      "id": "DfmC7YekSdxW",
      "execution_count": 113,
      "outputs": [
        {
          "output_type": "stream",
          "name": "stdout",
          "text": [
            "Number of rating correspond to each item\n"
          ]
        },
        {
          "output_type": "execute_result",
          "data": {
            "text/plain": [
              "                                                 item  rating\n",
              "25                                                FOX     139\n",
              "48                                 Northwest Airlines     141\n",
              "8                                          Applebee's     141\n",
              "77  The Legend Of Zelda Ocarina Of Time for Ninten...     143\n",
              "34                     How the Grinch Stole Christmas     143\n",
              "..                                                ...     ...\n",
              "46                                            NetZero     350\n",
              "41                                         McDonald's     415\n",
              "88                                               eBay     596\n",
              "1                                       All Advantage     657\n",
              "0                                AOL (America Online)     939\n",
              "\n",
              "[89 rows x 2 columns]"
            ],
            "text/html": [
              "\n",
              "  <div id=\"df-4718ce02-ba7d-427c-840d-842c06f43fc0\" class=\"colab-df-container\">\n",
              "    <div>\n",
              "<style scoped>\n",
              "    .dataframe tbody tr th:only-of-type {\n",
              "        vertical-align: middle;\n",
              "    }\n",
              "\n",
              "    .dataframe tbody tr th {\n",
              "        vertical-align: top;\n",
              "    }\n",
              "\n",
              "    .dataframe thead th {\n",
              "        text-align: right;\n",
              "    }\n",
              "</style>\n",
              "<table border=\"1\" class=\"dataframe\">\n",
              "  <thead>\n",
              "    <tr style=\"text-align: right;\">\n",
              "      <th></th>\n",
              "      <th>item</th>\n",
              "      <th>rating</th>\n",
              "    </tr>\n",
              "  </thead>\n",
              "  <tbody>\n",
              "    <tr>\n",
              "      <th>25</th>\n",
              "      <td>FOX</td>\n",
              "      <td>139</td>\n",
              "    </tr>\n",
              "    <tr>\n",
              "      <th>48</th>\n",
              "      <td>Northwest Airlines</td>\n",
              "      <td>141</td>\n",
              "    </tr>\n",
              "    <tr>\n",
              "      <th>8</th>\n",
              "      <td>Applebee's</td>\n",
              "      <td>141</td>\n",
              "    </tr>\n",
              "    <tr>\n",
              "      <th>77</th>\n",
              "      <td>The Legend Of Zelda Ocarina Of Time for Ninten...</td>\n",
              "      <td>143</td>\n",
              "    </tr>\n",
              "    <tr>\n",
              "      <th>34</th>\n",
              "      <td>How the Grinch Stole Christmas</td>\n",
              "      <td>143</td>\n",
              "    </tr>\n",
              "    <tr>\n",
              "      <th>...</th>\n",
              "      <td>...</td>\n",
              "      <td>...</td>\n",
              "    </tr>\n",
              "    <tr>\n",
              "      <th>46</th>\n",
              "      <td>NetZero</td>\n",
              "      <td>350</td>\n",
              "    </tr>\n",
              "    <tr>\n",
              "      <th>41</th>\n",
              "      <td>McDonald's</td>\n",
              "      <td>415</td>\n",
              "    </tr>\n",
              "    <tr>\n",
              "      <th>88</th>\n",
              "      <td>eBay</td>\n",
              "      <td>596</td>\n",
              "    </tr>\n",
              "    <tr>\n",
              "      <th>1</th>\n",
              "      <td>All Advantage</td>\n",
              "      <td>657</td>\n",
              "    </tr>\n",
              "    <tr>\n",
              "      <th>0</th>\n",
              "      <td>AOL (America Online)</td>\n",
              "      <td>939</td>\n",
              "    </tr>\n",
              "  </tbody>\n",
              "</table>\n",
              "<p>89 rows × 2 columns</p>\n",
              "</div>\n",
              "    <div class=\"colab-df-buttons\">\n",
              "\n",
              "  <div class=\"colab-df-container\">\n",
              "    <button class=\"colab-df-convert\" onclick=\"convertToInteractive('df-4718ce02-ba7d-427c-840d-842c06f43fc0')\"\n",
              "            title=\"Convert this dataframe to an interactive table.\"\n",
              "            style=\"display:none;\">\n",
              "\n",
              "  <svg xmlns=\"http://www.w3.org/2000/svg\" height=\"24px\" viewBox=\"0 -960 960 960\">\n",
              "    <path d=\"M120-120v-720h720v720H120Zm60-500h600v-160H180v160Zm220 220h160v-160H400v160Zm0 220h160v-160H400v160ZM180-400h160v-160H180v160Zm440 0h160v-160H620v160ZM180-180h160v-160H180v160Zm440 0h160v-160H620v160Z\"/>\n",
              "  </svg>\n",
              "    </button>\n",
              "\n",
              "  <style>\n",
              "    .colab-df-container {\n",
              "      display:flex;\n",
              "      gap: 12px;\n",
              "    }\n",
              "\n",
              "    .colab-df-convert {\n",
              "      background-color: #E8F0FE;\n",
              "      border: none;\n",
              "      border-radius: 50%;\n",
              "      cursor: pointer;\n",
              "      display: none;\n",
              "      fill: #1967D2;\n",
              "      height: 32px;\n",
              "      padding: 0 0 0 0;\n",
              "      width: 32px;\n",
              "    }\n",
              "\n",
              "    .colab-df-convert:hover {\n",
              "      background-color: #E2EBFA;\n",
              "      box-shadow: 0px 1px 2px rgba(60, 64, 67, 0.3), 0px 1px 3px 1px rgba(60, 64, 67, 0.15);\n",
              "      fill: #174EA6;\n",
              "    }\n",
              "\n",
              "    .colab-df-buttons div {\n",
              "      margin-bottom: 4px;\n",
              "    }\n",
              "\n",
              "    [theme=dark] .colab-df-convert {\n",
              "      background-color: #3B4455;\n",
              "      fill: #D2E3FC;\n",
              "    }\n",
              "\n",
              "    [theme=dark] .colab-df-convert:hover {\n",
              "      background-color: #434B5C;\n",
              "      box-shadow: 0px 1px 3px 1px rgba(0, 0, 0, 0.15);\n",
              "      filter: drop-shadow(0px 1px 2px rgba(0, 0, 0, 0.3));\n",
              "      fill: #FFFFFF;\n",
              "    }\n",
              "  </style>\n",
              "\n",
              "    <script>\n",
              "      const buttonEl =\n",
              "        document.querySelector('#df-4718ce02-ba7d-427c-840d-842c06f43fc0 button.colab-df-convert');\n",
              "      buttonEl.style.display =\n",
              "        google.colab.kernel.accessAllowed ? 'block' : 'none';\n",
              "\n",
              "      async function convertToInteractive(key) {\n",
              "        const element = document.querySelector('#df-4718ce02-ba7d-427c-840d-842c06f43fc0');\n",
              "        const dataTable =\n",
              "          await google.colab.kernel.invokeFunction('convertToInteractive',\n",
              "                                                    [key], {});\n",
              "        if (!dataTable) return;\n",
              "\n",
              "        const docLinkHtml = 'Like what you see? Visit the ' +\n",
              "          '<a target=\"_blank\" href=https://colab.research.google.com/notebooks/data_table.ipynb>data table notebook</a>'\n",
              "          + ' to learn more about interactive tables.';\n",
              "        element.innerHTML = '';\n",
              "        dataTable['output_type'] = 'display_data';\n",
              "        await google.colab.output.renderOutput(dataTable, element);\n",
              "        const docLink = document.createElement('div');\n",
              "        docLink.innerHTML = docLinkHtml;\n",
              "        element.appendChild(docLink);\n",
              "      }\n",
              "    </script>\n",
              "  </div>\n",
              "\n",
              "\n",
              "<div id=\"df-e63585ec-56cb-4c5b-a9c5-7d6c44e3c1db\">\n",
              "  <button class=\"colab-df-quickchart\" onclick=\"quickchart('df-e63585ec-56cb-4c5b-a9c5-7d6c44e3c1db')\"\n",
              "            title=\"Suggest charts\"\n",
              "            style=\"display:none;\">\n",
              "\n",
              "<svg xmlns=\"http://www.w3.org/2000/svg\" height=\"24px\"viewBox=\"0 0 24 24\"\n",
              "     width=\"24px\">\n",
              "    <g>\n",
              "        <path d=\"M19 3H5c-1.1 0-2 .9-2 2v14c0 1.1.9 2 2 2h14c1.1 0 2-.9 2-2V5c0-1.1-.9-2-2-2zM9 17H7v-7h2v7zm4 0h-2V7h2v10zm4 0h-2v-4h2v4z\"/>\n",
              "    </g>\n",
              "</svg>\n",
              "  </button>\n",
              "\n",
              "<style>\n",
              "  .colab-df-quickchart {\n",
              "      --bg-color: #E8F0FE;\n",
              "      --fill-color: #1967D2;\n",
              "      --hover-bg-color: #E2EBFA;\n",
              "      --hover-fill-color: #174EA6;\n",
              "      --disabled-fill-color: #AAA;\n",
              "      --disabled-bg-color: #DDD;\n",
              "  }\n",
              "\n",
              "  [theme=dark] .colab-df-quickchart {\n",
              "      --bg-color: #3B4455;\n",
              "      --fill-color: #D2E3FC;\n",
              "      --hover-bg-color: #434B5C;\n",
              "      --hover-fill-color: #FFFFFF;\n",
              "      --disabled-bg-color: #3B4455;\n",
              "      --disabled-fill-color: #666;\n",
              "  }\n",
              "\n",
              "  .colab-df-quickchart {\n",
              "    background-color: var(--bg-color);\n",
              "    border: none;\n",
              "    border-radius: 50%;\n",
              "    cursor: pointer;\n",
              "    display: none;\n",
              "    fill: var(--fill-color);\n",
              "    height: 32px;\n",
              "    padding: 0;\n",
              "    width: 32px;\n",
              "  }\n",
              "\n",
              "  .colab-df-quickchart:hover {\n",
              "    background-color: var(--hover-bg-color);\n",
              "    box-shadow: 0 1px 2px rgba(60, 64, 67, 0.3), 0 1px 3px 1px rgba(60, 64, 67, 0.15);\n",
              "    fill: var(--button-hover-fill-color);\n",
              "  }\n",
              "\n",
              "  .colab-df-quickchart-complete:disabled,\n",
              "  .colab-df-quickchart-complete:disabled:hover {\n",
              "    background-color: var(--disabled-bg-color);\n",
              "    fill: var(--disabled-fill-color);\n",
              "    box-shadow: none;\n",
              "  }\n",
              "\n",
              "  .colab-df-spinner {\n",
              "    border: 2px solid var(--fill-color);\n",
              "    border-color: transparent;\n",
              "    border-bottom-color: var(--fill-color);\n",
              "    animation:\n",
              "      spin 1s steps(1) infinite;\n",
              "  }\n",
              "\n",
              "  @keyframes spin {\n",
              "    0% {\n",
              "      border-color: transparent;\n",
              "      border-bottom-color: var(--fill-color);\n",
              "      border-left-color: var(--fill-color);\n",
              "    }\n",
              "    20% {\n",
              "      border-color: transparent;\n",
              "      border-left-color: var(--fill-color);\n",
              "      border-top-color: var(--fill-color);\n",
              "    }\n",
              "    30% {\n",
              "      border-color: transparent;\n",
              "      border-left-color: var(--fill-color);\n",
              "      border-top-color: var(--fill-color);\n",
              "      border-right-color: var(--fill-color);\n",
              "    }\n",
              "    40% {\n",
              "      border-color: transparent;\n",
              "      border-right-color: var(--fill-color);\n",
              "      border-top-color: var(--fill-color);\n",
              "    }\n",
              "    60% {\n",
              "      border-color: transparent;\n",
              "      border-right-color: var(--fill-color);\n",
              "    }\n",
              "    80% {\n",
              "      border-color: transparent;\n",
              "      border-right-color: var(--fill-color);\n",
              "      border-bottom-color: var(--fill-color);\n",
              "    }\n",
              "    90% {\n",
              "      border-color: transparent;\n",
              "      border-bottom-color: var(--fill-color);\n",
              "    }\n",
              "  }\n",
              "</style>\n",
              "\n",
              "  <script>\n",
              "    async function quickchart(key) {\n",
              "      const quickchartButtonEl =\n",
              "        document.querySelector('#' + key + ' button');\n",
              "      quickchartButtonEl.disabled = true;  // To prevent multiple clicks.\n",
              "      quickchartButtonEl.classList.add('colab-df-spinner');\n",
              "      try {\n",
              "        const charts = await google.colab.kernel.invokeFunction(\n",
              "            'suggestCharts', [key], {});\n",
              "      } catch (error) {\n",
              "        console.error('Error during call to suggestCharts:', error);\n",
              "      }\n",
              "      quickchartButtonEl.classList.remove('colab-df-spinner');\n",
              "      quickchartButtonEl.classList.add('colab-df-quickchart-complete');\n",
              "    }\n",
              "    (() => {\n",
              "      let quickchartButtonEl =\n",
              "        document.querySelector('#df-e63585ec-56cb-4c5b-a9c5-7d6c44e3c1db button');\n",
              "      quickchartButtonEl.style.display =\n",
              "        google.colab.kernel.accessAllowed ? 'block' : 'none';\n",
              "    })();\n",
              "  </script>\n",
              "</div>\n",
              "    </div>\n",
              "  </div>\n"
            ],
            "application/vnd.google.colaboratory.intrinsic+json": {
              "type": "dataframe",
              "variable_name": "rating_by_item",
              "summary": "{\n  \"name\": \"rating_by_item\",\n  \"rows\": 89,\n  \"fields\": [\n    {\n      \"column\": \"item\",\n      \"properties\": {\n        \"dtype\": \"string\",\n        \"num_unique_values\": 89,\n        \"samples\": [\n          \"Perfect Storm\",\n          \"Delta Air Lines\",\n          \"United Airlines\"\n        ],\n        \"semantic_type\": \"\",\n        \"description\": \"\"\n      }\n    },\n    {\n      \"column\": \"rating\",\n      \"properties\": {\n        \"dtype\": \"number\",\n        \"std\": 116,\n        \"min\": 139,\n        \"max\": 939,\n        \"num_unique_values\": 68,\n        \"samples\": [\n          245,\n          166,\n          147\n        ],\n        \"semantic_type\": \"\",\n        \"description\": \"\"\n      }\n    }\n  ]\n}"
            }
          },
          "metadata": {},
          "execution_count": 113
        }
      ]
    },
    {
      "cell_type": "code",
      "source": [
        "## descriptive statistics for number of ratings\n",
        "print('Descriptive statistic for number of rating for each items')\n",
        "rating_by_item['rating'].describe().round(3)"
      ],
      "metadata": {
        "id": "pdoSLD0qTG8w",
        "outputId": "e8f0ab91-23bc-4cf5-9a9a-58b34a35059e",
        "colab": {
          "base_uri": "https://localhost:8080/"
        }
      },
      "id": "pdoSLD0qTG8w",
      "execution_count": 114,
      "outputs": [
        {
          "output_type": "stream",
          "name": "stdout",
          "text": [
            "Descriptive statistic for number of rating for each items\n"
          ]
        },
        {
          "output_type": "execute_result",
          "data": {
            "text/plain": [
              "count     89.000\n",
              "mean     223.775\n",
              "std      116.419\n",
              "min      139.000\n",
              "25%      162.000\n",
              "50%      187.000\n",
              "75%      245.000\n",
              "max      939.000\n",
              "Name: rating, dtype: float64"
            ]
          },
          "metadata": {},
          "execution_count": 114
        }
      ]
    },
    {
      "cell_type": "markdown",
      "metadata": {
        "id": "PISggxe5qndR"
      },
      "source": [
        "#### Q3. Plotting and Analysis\n",
        "\n",
        "Please try to explore the correlation between gender/helpfulness/category and ratings; for instance, do female/male users tend to provide higher ratings than male/female users? Hint: you may use the boxplot function to plot figures for comparison (___Challenge___)\n",
        "    \n",
        "You may need to select the most suitable graphic forms for ease of presentation. Most importantly, for each figure or subfigure, please summarise ___what each plot shows___ (i.e. observations and explanations). Finally, you may need to provide an overall summary of the data."
      ],
      "id": "PISggxe5qndR"
    },
    {
      "cell_type": "markdown",
      "source": [
        "3.1 Correlation between gender and ratings"
      ],
      "metadata": {
        "id": "AhV02_Jfe5Ox"
      },
      "id": "AhV02_Jfe5Ox"
    },
    {
      "cell_type": "code",
      "execution_count": 115,
      "metadata": {
        "id": "Zyuvw_WlqndR",
        "colab": {
          "base_uri": "https://localhost:8080/",
          "height": 325
        },
        "outputId": "073d1c59-aa1e-47ab-a420-8e3d3a41f417"
      },
      "outputs": [
        {
          "output_type": "stream",
          "name": "stderr",
          "text": [
            "<ipython-input-115-4e65ef11af26>:1: FutureWarning: The default value of numeric_only in DataFrame.corr is deprecated. In a future version, it will default to False. Select only valid columns or specify the value of numeric_only to silence this warning.\n",
            "  corr_matrix = df1_clean.corr().round(4)\n"
          ]
        },
        {
          "output_type": "execute_result",
          "data": {
            "text/plain": [
              "             userId  timestamp  rating  helpfulness  item_id  item_price  \\\n",
              "userId       1.0000     0.0154 -0.0092      -0.0438   0.0065     -0.0185   \n",
              "timestamp    0.0154     1.0000 -0.0210      -0.0664   0.0415      0.0082   \n",
              "rating      -0.0092    -0.0210  1.0000      -0.0003   0.0679      0.0152   \n",
              "helpfulness -0.0438    -0.0664 -0.0003       1.0000  -0.0157      0.0301   \n",
              "item_id      0.0065     0.0415  0.0679      -0.0157   1.0000     -0.0670   \n",
              "item_price  -0.0185     0.0082  0.0152       0.0301  -0.0670      1.0000   \n",
              "user_city   -0.0086     0.0056 -0.0099       0.0148  -0.0100      0.0002   \n",
              "\n",
              "             user_city  \n",
              "userId         -0.0086  \n",
              "timestamp       0.0056  \n",
              "rating         -0.0099  \n",
              "helpfulness     0.0148  \n",
              "item_id        -0.0100  \n",
              "item_price      0.0002  \n",
              "user_city       1.0000  "
            ],
            "text/html": [
              "\n",
              "  <div id=\"df-ec75758a-9cb5-4104-93c2-5c65227c36ff\" class=\"colab-df-container\">\n",
              "    <div>\n",
              "<style scoped>\n",
              "    .dataframe tbody tr th:only-of-type {\n",
              "        vertical-align: middle;\n",
              "    }\n",
              "\n",
              "    .dataframe tbody tr th {\n",
              "        vertical-align: top;\n",
              "    }\n",
              "\n",
              "    .dataframe thead th {\n",
              "        text-align: right;\n",
              "    }\n",
              "</style>\n",
              "<table border=\"1\" class=\"dataframe\">\n",
              "  <thead>\n",
              "    <tr style=\"text-align: right;\">\n",
              "      <th></th>\n",
              "      <th>userId</th>\n",
              "      <th>timestamp</th>\n",
              "      <th>rating</th>\n",
              "      <th>helpfulness</th>\n",
              "      <th>item_id</th>\n",
              "      <th>item_price</th>\n",
              "      <th>user_city</th>\n",
              "    </tr>\n",
              "  </thead>\n",
              "  <tbody>\n",
              "    <tr>\n",
              "      <th>userId</th>\n",
              "      <td>1.0000</td>\n",
              "      <td>0.0154</td>\n",
              "      <td>-0.0092</td>\n",
              "      <td>-0.0438</td>\n",
              "      <td>0.0065</td>\n",
              "      <td>-0.0185</td>\n",
              "      <td>-0.0086</td>\n",
              "    </tr>\n",
              "    <tr>\n",
              "      <th>timestamp</th>\n",
              "      <td>0.0154</td>\n",
              "      <td>1.0000</td>\n",
              "      <td>-0.0210</td>\n",
              "      <td>-0.0664</td>\n",
              "      <td>0.0415</td>\n",
              "      <td>0.0082</td>\n",
              "      <td>0.0056</td>\n",
              "    </tr>\n",
              "    <tr>\n",
              "      <th>rating</th>\n",
              "      <td>-0.0092</td>\n",
              "      <td>-0.0210</td>\n",
              "      <td>1.0000</td>\n",
              "      <td>-0.0003</td>\n",
              "      <td>0.0679</td>\n",
              "      <td>0.0152</td>\n",
              "      <td>-0.0099</td>\n",
              "    </tr>\n",
              "    <tr>\n",
              "      <th>helpfulness</th>\n",
              "      <td>-0.0438</td>\n",
              "      <td>-0.0664</td>\n",
              "      <td>-0.0003</td>\n",
              "      <td>1.0000</td>\n",
              "      <td>-0.0157</td>\n",
              "      <td>0.0301</td>\n",
              "      <td>0.0148</td>\n",
              "    </tr>\n",
              "    <tr>\n",
              "      <th>item_id</th>\n",
              "      <td>0.0065</td>\n",
              "      <td>0.0415</td>\n",
              "      <td>0.0679</td>\n",
              "      <td>-0.0157</td>\n",
              "      <td>1.0000</td>\n",
              "      <td>-0.0670</td>\n",
              "      <td>-0.0100</td>\n",
              "    </tr>\n",
              "    <tr>\n",
              "      <th>item_price</th>\n",
              "      <td>-0.0185</td>\n",
              "      <td>0.0082</td>\n",
              "      <td>0.0152</td>\n",
              "      <td>0.0301</td>\n",
              "      <td>-0.0670</td>\n",
              "      <td>1.0000</td>\n",
              "      <td>0.0002</td>\n",
              "    </tr>\n",
              "    <tr>\n",
              "      <th>user_city</th>\n",
              "      <td>-0.0086</td>\n",
              "      <td>0.0056</td>\n",
              "      <td>-0.0099</td>\n",
              "      <td>0.0148</td>\n",
              "      <td>-0.0100</td>\n",
              "      <td>0.0002</td>\n",
              "      <td>1.0000</td>\n",
              "    </tr>\n",
              "  </tbody>\n",
              "</table>\n",
              "</div>\n",
              "    <div class=\"colab-df-buttons\">\n",
              "\n",
              "  <div class=\"colab-df-container\">\n",
              "    <button class=\"colab-df-convert\" onclick=\"convertToInteractive('df-ec75758a-9cb5-4104-93c2-5c65227c36ff')\"\n",
              "            title=\"Convert this dataframe to an interactive table.\"\n",
              "            style=\"display:none;\">\n",
              "\n",
              "  <svg xmlns=\"http://www.w3.org/2000/svg\" height=\"24px\" viewBox=\"0 -960 960 960\">\n",
              "    <path d=\"M120-120v-720h720v720H120Zm60-500h600v-160H180v160Zm220 220h160v-160H400v160Zm0 220h160v-160H400v160ZM180-400h160v-160H180v160Zm440 0h160v-160H620v160ZM180-180h160v-160H180v160Zm440 0h160v-160H620v160Z\"/>\n",
              "  </svg>\n",
              "    </button>\n",
              "\n",
              "  <style>\n",
              "    .colab-df-container {\n",
              "      display:flex;\n",
              "      gap: 12px;\n",
              "    }\n",
              "\n",
              "    .colab-df-convert {\n",
              "      background-color: #E8F0FE;\n",
              "      border: none;\n",
              "      border-radius: 50%;\n",
              "      cursor: pointer;\n",
              "      display: none;\n",
              "      fill: #1967D2;\n",
              "      height: 32px;\n",
              "      padding: 0 0 0 0;\n",
              "      width: 32px;\n",
              "    }\n",
              "\n",
              "    .colab-df-convert:hover {\n",
              "      background-color: #E2EBFA;\n",
              "      box-shadow: 0px 1px 2px rgba(60, 64, 67, 0.3), 0px 1px 3px 1px rgba(60, 64, 67, 0.15);\n",
              "      fill: #174EA6;\n",
              "    }\n",
              "\n",
              "    .colab-df-buttons div {\n",
              "      margin-bottom: 4px;\n",
              "    }\n",
              "\n",
              "    [theme=dark] .colab-df-convert {\n",
              "      background-color: #3B4455;\n",
              "      fill: #D2E3FC;\n",
              "    }\n",
              "\n",
              "    [theme=dark] .colab-df-convert:hover {\n",
              "      background-color: #434B5C;\n",
              "      box-shadow: 0px 1px 3px 1px rgba(0, 0, 0, 0.15);\n",
              "      filter: drop-shadow(0px 1px 2px rgba(0, 0, 0, 0.3));\n",
              "      fill: #FFFFFF;\n",
              "    }\n",
              "  </style>\n",
              "\n",
              "    <script>\n",
              "      const buttonEl =\n",
              "        document.querySelector('#df-ec75758a-9cb5-4104-93c2-5c65227c36ff button.colab-df-convert');\n",
              "      buttonEl.style.display =\n",
              "        google.colab.kernel.accessAllowed ? 'block' : 'none';\n",
              "\n",
              "      async function convertToInteractive(key) {\n",
              "        const element = document.querySelector('#df-ec75758a-9cb5-4104-93c2-5c65227c36ff');\n",
              "        const dataTable =\n",
              "          await google.colab.kernel.invokeFunction('convertToInteractive',\n",
              "                                                    [key], {});\n",
              "        if (!dataTable) return;\n",
              "\n",
              "        const docLinkHtml = 'Like what you see? Visit the ' +\n",
              "          '<a target=\"_blank\" href=https://colab.research.google.com/notebooks/data_table.ipynb>data table notebook</a>'\n",
              "          + ' to learn more about interactive tables.';\n",
              "        element.innerHTML = '';\n",
              "        dataTable['output_type'] = 'display_data';\n",
              "        await google.colab.output.renderOutput(dataTable, element);\n",
              "        const docLink = document.createElement('div');\n",
              "        docLink.innerHTML = docLinkHtml;\n",
              "        element.appendChild(docLink);\n",
              "      }\n",
              "    </script>\n",
              "  </div>\n",
              "\n",
              "\n",
              "<div id=\"df-c5080eb1-1295-45e3-a259-944b69caf4a7\">\n",
              "  <button class=\"colab-df-quickchart\" onclick=\"quickchart('df-c5080eb1-1295-45e3-a259-944b69caf4a7')\"\n",
              "            title=\"Suggest charts\"\n",
              "            style=\"display:none;\">\n",
              "\n",
              "<svg xmlns=\"http://www.w3.org/2000/svg\" height=\"24px\"viewBox=\"0 0 24 24\"\n",
              "     width=\"24px\">\n",
              "    <g>\n",
              "        <path d=\"M19 3H5c-1.1 0-2 .9-2 2v14c0 1.1.9 2 2 2h14c1.1 0 2-.9 2-2V5c0-1.1-.9-2-2-2zM9 17H7v-7h2v7zm4 0h-2V7h2v10zm4 0h-2v-4h2v4z\"/>\n",
              "    </g>\n",
              "</svg>\n",
              "  </button>\n",
              "\n",
              "<style>\n",
              "  .colab-df-quickchart {\n",
              "      --bg-color: #E8F0FE;\n",
              "      --fill-color: #1967D2;\n",
              "      --hover-bg-color: #E2EBFA;\n",
              "      --hover-fill-color: #174EA6;\n",
              "      --disabled-fill-color: #AAA;\n",
              "      --disabled-bg-color: #DDD;\n",
              "  }\n",
              "\n",
              "  [theme=dark] .colab-df-quickchart {\n",
              "      --bg-color: #3B4455;\n",
              "      --fill-color: #D2E3FC;\n",
              "      --hover-bg-color: #434B5C;\n",
              "      --hover-fill-color: #FFFFFF;\n",
              "      --disabled-bg-color: #3B4455;\n",
              "      --disabled-fill-color: #666;\n",
              "  }\n",
              "\n",
              "  .colab-df-quickchart {\n",
              "    background-color: var(--bg-color);\n",
              "    border: none;\n",
              "    border-radius: 50%;\n",
              "    cursor: pointer;\n",
              "    display: none;\n",
              "    fill: var(--fill-color);\n",
              "    height: 32px;\n",
              "    padding: 0;\n",
              "    width: 32px;\n",
              "  }\n",
              "\n",
              "  .colab-df-quickchart:hover {\n",
              "    background-color: var(--hover-bg-color);\n",
              "    box-shadow: 0 1px 2px rgba(60, 64, 67, 0.3), 0 1px 3px 1px rgba(60, 64, 67, 0.15);\n",
              "    fill: var(--button-hover-fill-color);\n",
              "  }\n",
              "\n",
              "  .colab-df-quickchart-complete:disabled,\n",
              "  .colab-df-quickchart-complete:disabled:hover {\n",
              "    background-color: var(--disabled-bg-color);\n",
              "    fill: var(--disabled-fill-color);\n",
              "    box-shadow: none;\n",
              "  }\n",
              "\n",
              "  .colab-df-spinner {\n",
              "    border: 2px solid var(--fill-color);\n",
              "    border-color: transparent;\n",
              "    border-bottom-color: var(--fill-color);\n",
              "    animation:\n",
              "      spin 1s steps(1) infinite;\n",
              "  }\n",
              "\n",
              "  @keyframes spin {\n",
              "    0% {\n",
              "      border-color: transparent;\n",
              "      border-bottom-color: var(--fill-color);\n",
              "      border-left-color: var(--fill-color);\n",
              "    }\n",
              "    20% {\n",
              "      border-color: transparent;\n",
              "      border-left-color: var(--fill-color);\n",
              "      border-top-color: var(--fill-color);\n",
              "    }\n",
              "    30% {\n",
              "      border-color: transparent;\n",
              "      border-left-color: var(--fill-color);\n",
              "      border-top-color: var(--fill-color);\n",
              "      border-right-color: var(--fill-color);\n",
              "    }\n",
              "    40% {\n",
              "      border-color: transparent;\n",
              "      border-right-color: var(--fill-color);\n",
              "      border-top-color: var(--fill-color);\n",
              "    }\n",
              "    60% {\n",
              "      border-color: transparent;\n",
              "      border-right-color: var(--fill-color);\n",
              "    }\n",
              "    80% {\n",
              "      border-color: transparent;\n",
              "      border-right-color: var(--fill-color);\n",
              "      border-bottom-color: var(--fill-color);\n",
              "    }\n",
              "    90% {\n",
              "      border-color: transparent;\n",
              "      border-bottom-color: var(--fill-color);\n",
              "    }\n",
              "  }\n",
              "</style>\n",
              "\n",
              "  <script>\n",
              "    async function quickchart(key) {\n",
              "      const quickchartButtonEl =\n",
              "        document.querySelector('#' + key + ' button');\n",
              "      quickchartButtonEl.disabled = true;  // To prevent multiple clicks.\n",
              "      quickchartButtonEl.classList.add('colab-df-spinner');\n",
              "      try {\n",
              "        const charts = await google.colab.kernel.invokeFunction(\n",
              "            'suggestCharts', [key], {});\n",
              "      } catch (error) {\n",
              "        console.error('Error during call to suggestCharts:', error);\n",
              "      }\n",
              "      quickchartButtonEl.classList.remove('colab-df-spinner');\n",
              "      quickchartButtonEl.classList.add('colab-df-quickchart-complete');\n",
              "    }\n",
              "    (() => {\n",
              "      let quickchartButtonEl =\n",
              "        document.querySelector('#df-c5080eb1-1295-45e3-a259-944b69caf4a7 button');\n",
              "      quickchartButtonEl.style.display =\n",
              "        google.colab.kernel.accessAllowed ? 'block' : 'none';\n",
              "    })();\n",
              "  </script>\n",
              "</div>\n",
              "    </div>\n",
              "  </div>\n"
            ],
            "application/vnd.google.colaboratory.intrinsic+json": {
              "type": "dataframe",
              "variable_name": "corr_matrix",
              "summary": "{\n  \"name\": \"corr_matrix\",\n  \"rows\": 7,\n  \"fields\": [\n    {\n      \"column\": \"userId\",\n      \"properties\": {\n        \"dtype\": \"number\",\n        \"std\": 0.3820964618921198,\n        \"min\": -0.0438,\n        \"max\": 1.0,\n        \"num_unique_values\": 7,\n        \"samples\": [\n          1.0,\n          0.0154,\n          -0.0185\n        ],\n        \"semantic_type\": \"\",\n        \"description\": \"\"\n      }\n    },\n    {\n      \"column\": \"timestamp\",\n      \"properties\": {\n        \"dtype\": \"number\",\n        \"std\": 0.3805221006033934,\n        \"min\": -0.0664,\n        \"max\": 1.0,\n        \"num_unique_values\": 7,\n        \"samples\": [\n          0.0154,\n          1.0,\n          0.0082\n        ],\n        \"semantic_type\": \"\",\n        \"description\": \"\"\n      }\n    },\n    {\n      \"column\": \"rating\",\n      \"properties\": {\n        \"dtype\": \"number\",\n        \"std\": 0.3764189990650616,\n        \"min\": -0.021,\n        \"max\": 1.0,\n        \"num_unique_values\": 7,\n        \"samples\": [\n          -0.0092,\n          -0.021,\n          0.0152\n        ],\n        \"semantic_type\": \"\",\n        \"description\": \"\"\n      }\n    },\n    {\n      \"column\": \"helpfulness\",\n      \"properties\": {\n        \"dtype\": \"number\",\n        \"std\": 0.38451836045084964,\n        \"min\": -0.0664,\n        \"max\": 1.0,\n        \"num_unique_values\": 7,\n        \"samples\": [\n          -0.0438,\n          -0.0664,\n          0.0301\n        ],\n        \"semantic_type\": \"\",\n        \"description\": \"\"\n      }\n    },\n    {\n      \"column\": \"item_id\",\n      \"properties\": {\n        \"dtype\": \"number\",\n        \"std\": 0.3789564166421855,\n        \"min\": -0.067,\n        \"max\": 1.0,\n        \"num_unique_values\": 7,\n        \"samples\": [\n          0.0065,\n          0.0415,\n          -0.067\n        ],\n        \"semantic_type\": \"\",\n        \"description\": \"\"\n      }\n    },\n    {\n      \"column\": \"item_price\",\n      \"properties\": {\n        \"dtype\": \"number\",\n        \"std\": 0.3812522543258878,\n        \"min\": -0.067,\n        \"max\": 1.0,\n        \"num_unique_values\": 7,\n        \"samples\": [\n          -0.0185,\n          0.0082,\n          1.0\n        ],\n        \"semantic_type\": \"\",\n        \"description\": \"\"\n      }\n    },\n    {\n      \"column\": \"user_city\",\n      \"properties\": {\n        \"dtype\": \"number\",\n        \"std\": 0.3785748482325334,\n        \"min\": -0.01,\n        \"max\": 1.0,\n        \"num_unique_values\": 7,\n        \"samples\": [\n          -0.0086,\n          0.0056,\n          0.0002\n        ],\n        \"semantic_type\": \"\",\n        \"description\": \"\"\n      }\n    }\n  ]\n}"
            }
          },
          "metadata": {},
          "execution_count": 115
        }
      ],
      "source": [
        "corr_matrix = df1_clean.corr().round(4)\n",
        "corr_matrix"
      ],
      "id": "Zyuvw_WlqndR"
    },
    {
      "cell_type": "markdown",
      "source": [
        "correlation between gender/helpfulness/category and ratings; for instance, do female/male users tend to provide higher ratings than male/female users?"
      ],
      "metadata": {
        "id": "KG6VlrCqWnqr"
      },
      "id": "KG6VlrCqWnqr"
    },
    {
      "cell_type": "code",
      "source": [
        "corr_matrix[\"rating\"]"
      ],
      "metadata": {
        "colab": {
          "base_uri": "https://localhost:8080/"
        },
        "id": "yEQkJvL4Wg9f",
        "outputId": "c72bd777-a6e5-44a6-de00-4dd2831404fc"
      },
      "id": "yEQkJvL4Wg9f",
      "execution_count": 116,
      "outputs": [
        {
          "output_type": "execute_result",
          "data": {
            "text/plain": [
              "userId        -0.0092\n",
              "timestamp     -0.0210\n",
              "rating         1.0000\n",
              "helpfulness   -0.0003\n",
              "item_id        0.0679\n",
              "item_price     0.0152\n",
              "user_city     -0.0099\n",
              "Name: rating, dtype: float64"
            ]
          },
          "metadata": {},
          "execution_count": 116
        }
      ]
    },
    {
      "cell_type": "code",
      "source": [
        "# Boxplot correlation between gender and rating\n",
        "sns.boxplot(data=df1_clean, x='gender', y='rating', palette = \"YlGnBu\")\n",
        "plt.title('Male and Female rating comparision')"
      ],
      "metadata": {
        "colab": {
          "base_uri": "https://localhost:8080/",
          "height": 599
        },
        "id": "8bT5cANNtJrl",
        "outputId": "11d7b6df-ab1b-4431-c6f2-584b7d324d0d"
      },
      "id": "8bT5cANNtJrl",
      "execution_count": null,
      "outputs": [
        {
          "output_type": "stream",
          "name": "stderr",
          "text": [
            "<ipython-input-37-92ffbdfcf7de>:2: FutureWarning: \n",
            "\n",
            "Passing `palette` without assigning `hue` is deprecated and will be removed in v0.14.0. Assign the `x` variable to `hue` and set `legend=False` for the same effect.\n",
            "\n",
            "  sns.boxplot(data=df1_clean, x='gender', y='rating', palette = \"YlGnBu\")\n"
          ]
        },
        {
          "output_type": "execute_result",
          "data": {
            "text/plain": [
              "Text(0.5, 1.0, 'Male and Female rating comparision')"
            ]
          },
          "metadata": {},
          "execution_count": 37
        },
        {
          "output_type": "display_data",
          "data": {
            "text/plain": [
              "<Figure size 640x480 with 1 Axes>"
            ],
            "image/png": "[encoded data removed]"
          },
          "metadata": {}
        }
      ]
    },
    {
      "cell_type": "markdown",
      "source": [
        "***EXPLANATION:***\n",
        "\n",
        "\n",
        "1. The median line of all box plots are the same, at 4.0.\n",
        "2. There is the similarity between median and mean, which mean these plots have symmetric distribution with no skewness.\n",
        "3. The interquartile ranges of all box plots are also the same.\n",
        "4. There is no outliers in the box plot.\n",
        "\n",
        "In conclusion, there is no correlation between gender and rating in the dataset"
      ],
      "metadata": {
        "id": "-GZWayUR4Vkg"
      },
      "id": "-GZWayUR4Vkg"
    },
    {
      "cell_type": "markdown",
      "source": [
        "3.2 Correlation between helpfulness and ratings"
      ],
      "metadata": {
        "id": "XDvgHinS4As9"
      },
      "id": "XDvgHinS4As9"
    },
    {
      "cell_type": "code",
      "source": [
        "sns.boxplot(data=df1_clean, x='helpfulness', y='rating',palette = \"YlGnBu\")\n",
        "plt.title('Correlation Helpfulness - Rating in df1(E-Commerce) dataset')"
      ],
      "metadata": {
        "colab": {
          "base_uri": "https://localhost:8080/",
          "height": 599
        },
        "id": "Yk6m9NPVomaI",
        "outputId": "27cff05e-3164-4ebc-9160-19776e9c1ea8"
      },
      "id": "Yk6m9NPVomaI",
      "execution_count": 117,
      "outputs": [
        {
          "output_type": "stream",
          "name": "stderr",
          "text": [
            "<ipython-input-117-38b4aa208cbe>:1: FutureWarning: \n",
            "\n",
            "Passing `palette` without assigning `hue` is deprecated and will be removed in v0.14.0. Assign the `x` variable to `hue` and set `legend=False` for the same effect.\n",
            "\n",
            "  sns.boxplot(data=df1_clean, x='helpfulness', y='rating',palette = \"YlGnBu\")\n"
          ]
        },
        {
          "output_type": "execute_result",
          "data": {
            "text/plain": [
              "Text(0.5, 1.0, 'Correlation Helpfulness - Rating in df1(E-Commerce) dataset')"
            ]
          },
          "metadata": {},
          "execution_count": 117
        },
        {
          "output_type": "display_data",
          "data": {
            "text/plain": [
              "<Figure size 640x480 with 1 Axes>"
            ],
            "image/png": "[encoded data removed]"
          },
          "metadata": {}
        }
      ]
    },
    {
      "cell_type": "markdown",
      "source": [
        "***EXPLANATION:***\n",
        "\n",
        "\n",
        "1. The median line of all box plots are the same, at 4.0.\n",
        "2. The mean line is also similar to the median one, showing the symmetric distribution with no heavy skewness.\n",
        "3. The interquartile ranges of box plots 0.0, 1.0, 3.0 and 4.0 are the same, while that of 2.0 is larger than the rest. This indicates that the box plot of 2.0 has wider distribution, in other words, more scattered data.\n",
        "4. There is no outliers in the box plot.\n",
        "\n",
        "In conclusion, there is no impact of perception of helpfulness on ratings."
      ],
      "metadata": {
        "id": "wPcwJGjm7a2O"
      },
      "id": "wPcwJGjm7a2O"
    },
    {
      "cell_type": "markdown",
      "source": [
        "3.3 Correlation between category and ratings"
      ],
      "metadata": {
        "id": "Q7rIqtJf4Cuy"
      },
      "id": "Q7rIqtJf4Cuy"
    },
    {
      "cell_type": "code",
      "source": [
        "# correlation between category and rating\n",
        "sns.boxplot(data=df1_clean, x='category', y='rating', palette = \"YlGnBu\")\n",
        "plt.title('Category rating comparision')\n",
        "plt.xticks(rotation=90)"
      ],
      "metadata": {
        "colab": {
          "base_uri": "https://localhost:8080/",
          "height": 916
        },
        "id": "vyiocgDQ01Rz",
        "outputId": "39adf310-c158-43f0-c67c-1e0f0aa58384"
      },
      "id": "vyiocgDQ01Rz",
      "execution_count": 118,
      "outputs": [
        {
          "output_type": "stream",
          "name": "stderr",
          "text": [
            "<ipython-input-118-d3aa86772683>:2: FutureWarning: \n",
            "\n",
            "Passing `palette` without assigning `hue` is deprecated and will be removed in v0.14.0. Assign the `x` variable to `hue` and set `legend=False` for the same effect.\n",
            "\n",
            "  sns.boxplot(data=df1_clean, x='category', y='rating', palette = \"YlGnBu\")\n"
          ]
        },
        {
          "output_type": "execute_result",
          "data": {
            "text/plain": [
              "([0, 1, 2, 3, 4, 5, 6, 7, 8],\n",
              " [Text(0, 0, 'Online Stores & Services'),\n",
              "  Text(1, 0, 'Movies'),\n",
              "  Text(2, 0, 'Restaurants & Gourmet'),\n",
              "  Text(3, 0, 'Personal Finance'),\n",
              "  Text(4, 0, 'Kids & Family'),\n",
              "  Text(5, 0, 'Hotels & Travel'),\n",
              "  Text(6, 0, 'Media'),\n",
              "  Text(7, 0, 'Games'),\n",
              "  Text(8, 0, 'Books')])"
            ]
          },
          "metadata": {},
          "execution_count": 118
        },
        {
          "output_type": "display_data",
          "data": {
            "text/plain": [
              "<Figure size 640x480 with 1 Axes>"
            ],
            "image/png": "[encoded data removed]"
          },
          "metadata": {}
        }
      ]
    },
    {
      "cell_type": "markdown",
      "source": [
        "***EXPLANATION:***\n",
        "\n",
        "\n",
        "1. The median line all box plots are the same (at 4.0), except the box plot of Media, Games and Books, which are totally different.\n",
        "2. The mean line is similar to the median, leading to symmetric distribution without heavy skewness.\n",
        "3. The interquartile range of box plots Books is smallest, followed by the Games and Media respectively, while the rest have the same interquartile ranges.\n",
        "4. The box plot of Books has more outliers than Games, whereas there is no outliers for other box plots. Moreover, Books is the highest rated category among the categories given with the lowest outliers.\n",
        "\n",
        "In conclusion, while satisfaction is typically high, certain categories exhibit more variability and may benefit from targeted improvements to address the concerns of dissatisfied customers."
      ],
      "metadata": {
        "id": "GMb3g2rfCq9V"
      },
      "id": "GMb3g2rfCq9V"
    },
    {
      "cell_type": "markdown",
      "metadata": {
        "id": "TxD3SLxRqndR"
      },
      "source": [
        "#### Q4. Detect and remove outliers\n",
        "\n",
        "We may define outlier users, reviews and items with three rules (if a record meets one of the rules, it is regarded as an outlier):\n",
        "\n",
        "1. reviews of which the helpfulness is no more than 2\n",
        "2. users who rate less than 7 items\n",
        "3. items that receives less than 11 ratings\n",
        "\n",
        "Please remove the corresponding records in the csv file that involves outlier users, reviews and items. You need to follow the order of rules to perform data cleaning operations. After that, __print the length of the data__."
      ],
      "id": "TxD3SLxRqndR"
    },
    {
      "cell_type": "code",
      "execution_count": 119,
      "metadata": {
        "id": "JaQJmew4qndR",
        "colab": {
          "base_uri": "https://localhost:8080/"
        },
        "outputId": "9d36983c-ddad-4ba5-cda3-878e604d299d"
      },
      "outputs": [
        {
          "output_type": "stream",
          "name": "stdout",
          "text": [
            "Length of data before remove outliers 19916\n"
          ]
        }
      ],
      "source": [
        "# print the length of data before remove outliers\n",
        "print('Length of data before remove outliers', len(df1_clean))"
      ],
      "id": "JaQJmew4qndR"
    },
    {
      "cell_type": "markdown",
      "source": [
        "4.1 Reviews of which the helpfulness is no more than 2"
      ],
      "metadata": {
        "id": "2965pNr6OqAT"
      },
      "id": "2965pNr6OqAT"
    },
    {
      "cell_type": "code",
      "source": [
        "removed_helpless_reviews = df1_clean.drop(df1_clean[df1_clean['helpfulness']<= 2.0].index)\n",
        "print(removed_helpless_reviews)"
      ],
      "metadata": {
        "colab": {
          "base_uri": "https://localhost:8080/"
        },
        "id": "I3uOuX86Oysr",
        "outputId": "b80ca122-e4bd-439d-bad1-2614f885058c"
      },
      "id": "I3uOuX86Oysr",
      "execution_count": 120,
      "outputs": [
        {
          "output_type": "stream",
          "name": "stdout",
          "text": [
            "       userId  timestamp                            review  \\\n",
            "2          33      12700     AOL..I love you!!!!!!!!!!!!     \n",
            "3          33      21000      EBAY!!!  I LOVE YOU!!!! :-)*   \n",
            "4          33      22300   Blair Witch...Oh Come On.......   \n",
            "6          33      32100         Go down under Mateys!!!!!   \n",
            "9        4053      22304              The best on the web.   \n",
            "...       ...        ...                               ...   \n",
            "19992   10805      11900                             R.I.P   \n",
            "19993   10805      12000                  Leave them be...   \n",
            "19994   10805      50500      Thank you, Drive Thru Please   \n",
            "19995   10805      50600         The Upper Class Fast Food   \n",
            "19997   10806      82201  Excellent steak for a good price   \n",
            "\n",
            "                       item  rating  helpfulness gender  \\\n",
            "2      AOL (America Online)     5.0          4.0      F   \n",
            "3                      eBay     5.0          4.0      F   \n",
            "4       Blair Witch Project     1.0          4.0      F   \n",
            "6        Outback Steakhouse     5.0          4.0      F   \n",
            "9                Amazon.com     5.0          3.0      F   \n",
            "...                     ...     ...          ...    ...   \n",
            "19992                   MTV     1.0          4.0      F   \n",
            "19993           Teletubbies     5.0          4.0      F   \n",
            "19994            McDonald's     3.0          3.0      F   \n",
            "19995               Wendy's     2.0          3.0      F   \n",
            "19997    Outback Steakhouse     4.0          3.0      M   \n",
            "\n",
            "                       category  item_id  item_price  user_city  \n",
            "2      Online Stores & Services        0      145.84         31  \n",
            "3      Online Stores & Services       88      149.00         31  \n",
            "4                        Movies       12       44.00         31  \n",
            "6         Restaurants & Gourmet       50       25.00         31  \n",
            "9      Online Stores & Services        3      129.82         22  \n",
            "...                         ...      ...         ...        ...  \n",
            "19992                     Media       39      138.00         18  \n",
            "19993             Kids & Family       76       48.25         18  \n",
            "19994     Restaurants & Gourmet       41       30.74         18  \n",
            "19995     Restaurants & Gourmet       84       69.00         18  \n",
            "19997     Restaurants & Gourmet       50       25.00         28  \n",
            "\n",
            "[13643 rows x 11 columns]\n"
          ]
        }
      ]
    },
    {
      "cell_type": "code",
      "source": [
        "removed_helpless_reviews.helpfulness.describe().head()"
      ],
      "metadata": {
        "colab": {
          "base_uri": "https://localhost:8080/"
        },
        "id": "XZyVeX2cRdS6",
        "outputId": "eed26a16-2aca-425e-dcf7-27f85e46079e"
      },
      "id": "XZyVeX2cRdS6",
      "execution_count": 121,
      "outputs": [
        {
          "output_type": "execute_result",
          "data": {
            "text/plain": [
              "count    13643.000000\n",
              "mean         3.749249\n",
              "std          0.433461\n",
              "min          3.000000\n",
              "25%          3.000000\n",
              "Name: helpfulness, dtype: float64"
            ]
          },
          "metadata": {},
          "execution_count": 121
        }
      ]
    },
    {
      "cell_type": "markdown",
      "source": [
        "4.2 Users who rate less than 7 items"
      ],
      "metadata": {
        "id": "9jbUR0PyRx8I"
      },
      "id": "9jbUR0PyRx8I"
    },
    {
      "cell_type": "code",
      "source": [
        "# Count the number of items rated by each user\n",
        "userId_count = removed_helpless_reviews.groupby(\"userId\")['rating'].count()\n",
        "print(userId_count)\n",
        "\n",
        "# Identify users who rated 7 or more items\n",
        "filtered_userId = userId_count[userId_count >= 7].index.tolist()\n",
        "\n",
        "\n",
        "# Filter the original dataset to keep only records from these users\n",
        "removed_usersId = removed_helpless_reviews[removed_helpless_reviews['userId'].isin(filtered_userId)]"
      ],
      "metadata": {
        "colab": {
          "base_uri": "https://localhost:8080/"
        },
        "id": "8YUOtWB9R5PE",
        "outputId": "e09edcfe-5016-435e-b5e8-e1a72aeb16e1"
      },
      "id": "8YUOtWB9R5PE",
      "execution_count": 122,
      "outputs": [
        {
          "output_type": "stream",
          "name": "stdout",
          "text": [
            "userId\n",
            "0        3\n",
            "1        1\n",
            "2        2\n",
            "3        2\n",
            "4        7\n",
            "        ..\n",
            "10802    2\n",
            "10803    1\n",
            "10804    1\n",
            "10805    4\n",
            "10806    1\n",
            "Name: rating, Length: 6535, dtype: int64\n"
          ]
        }
      ]
    },
    {
      "cell_type": "code",
      "source": [
        "removed_usersId[['item','userId',]].groupby(by=['userId',]).count().reset_index().sort_values(by='item').item.describe()"
      ],
      "metadata": {
        "colab": {
          "base_uri": "https://localhost:8080/"
        },
        "id": "MZIi65xst9sj",
        "outputId": "de99afbe-925b-4868-81da-37fba632bb5c"
      },
      "id": "MZIi65xst9sj",
      "execution_count": 123,
      "outputs": [
        {
          "output_type": "execute_result",
          "data": {
            "text/plain": [
              "count    267.000000\n",
              "mean      10.265918\n",
              "std        4.410394\n",
              "min        7.000000\n",
              "25%        7.000000\n",
              "50%        9.000000\n",
              "75%       12.000000\n",
              "max       35.000000\n",
              "Name: item, dtype: float64"
            ]
          },
          "metadata": {},
          "execution_count": 123
        }
      ]
    },
    {
      "cell_type": "markdown",
      "source": [
        "4.3 Items that receives less than 11 ratings"
      ],
      "metadata": {
        "id": "CQgo6HyO0iVE"
      },
      "id": "CQgo6HyO0iVE"
    },
    {
      "cell_type": "code",
      "source": [
        "# Count the number of items rated by each user\n",
        "items_count = removed_usersId.groupby(\"item\")['rating'].count()\n",
        "print(userId_count)\n",
        "\n",
        "# Identify the items receive 11 ratings or more\n",
        "filtered_items = items_count[items_count >= 11].index.tolist()\n",
        "\n",
        "# Filter the original dataset to keep only records from these users\n",
        "removed_items = removed_helpless_reviews[removed_helpless_reviews['userId'].isin(filtered_userId)][df_removed_reviewsanduserId['item'].isin(filtered_item)]"
      ],
      "metadata": {
        "colab": {
          "base_uri": "https://localhost:8080/"
        },
        "id": "HSPIW2YM0suA",
        "outputId": "1236dcda-4e0e-466a-a5b0-cd8cf2ee1868"
      },
      "id": "HSPIW2YM0suA",
      "execution_count": 124,
      "outputs": [
        {
          "output_type": "stream",
          "name": "stdout",
          "text": [
            "userId\n",
            "0        3\n",
            "1        1\n",
            "2        2\n",
            "3        2\n",
            "4        7\n",
            "        ..\n",
            "10802    2\n",
            "10803    1\n",
            "10804    1\n",
            "10805    4\n",
            "10806    1\n",
            "Name: rating, Length: 6535, dtype: int64\n"
          ]
        }
      ]
    },
    {
      "cell_type": "code",
      "source": [
        "removed_items[['item','rating',]].groupby(by=['item',]).count().reset_index().sort_values(by='rating').rating.describe()"
      ],
      "metadata": {
        "colab": {
          "base_uri": "https://localhost:8080/"
        },
        "id": "KTBcU-iH1D8G",
        "outputId": "fe33b2ab-b62e-41af-98fc-009f68e77a33"
      },
      "id": "KTBcU-iH1D8G",
      "execution_count": 125,
      "outputs": [
        {
          "output_type": "execute_result",
          "data": {
            "text/plain": [
              "count    82.000000\n",
              "mean     32.743902\n",
              "std      15.475038\n",
              "min      11.000000\n",
              "25%      22.250000\n",
              "50%      30.000000\n",
              "75%      39.000000\n",
              "max      93.000000\n",
              "Name: rating, dtype: float64"
            ]
          },
          "metadata": {},
          "execution_count": 125
        }
      ]
    },
    {
      "cell_type": "markdown",
      "source": [
        "FINAL RESULTS"
      ],
      "metadata": {
        "id": "jYW3uzFO2Swf"
      },
      "id": "jYW3uzFO2Swf"
    },
    {
      "cell_type": "code",
      "source": [
        "print('Length of data after remove outliers', len(removed_items))\n",
        "## output the final data to csv file\n",
        "removed_items.to_csv('df1_data.csv')"
      ],
      "metadata": {
        "colab": {
          "base_uri": "https://localhost:8080/"
        },
        "id": "ZV6kVbK72O91",
        "outputId": "256f32dd-c2f9-4df3-9a3f-00de630a2b76"
      },
      "id": "ZV6kVbK72O91",
      "execution_count": 126,
      "outputs": [
        {
          "output_type": "stream",
          "name": "stdout",
          "text": [
            "Length of data after remove outliers 2685\n"
          ]
        }
      ]
    }
  ],
  "metadata": {
    "kernelspec": {
      "display_name": "Python 3",
      "language": "python",
      "name": "python3"
    },
    "language_info": {
      "codemirror_mode": {
        "name": "ipython",
        "version": 3
      },
      "file_extension": ".py",
      "mimetype": "text/x-python",
      "name": "python",
      "nbconvert_exporter": "python",
      "pygments_lexer": "ipython3",
      "version": "3.8.3"
    },
    "colab": {
      "provenance": []
    }
  },
  "nbformat": 4,
  "nbformat_minor": 5
}